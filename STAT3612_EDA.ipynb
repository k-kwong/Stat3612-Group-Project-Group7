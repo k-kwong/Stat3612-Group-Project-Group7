{
 "cells": [
  {
   "cell_type": "markdown",
   "metadata": {},
   "source": [
    "## Explory Data Analysis (EDA) for Group Project"
   ]
  },
  {
   "cell_type": "markdown",
   "metadata": {},
   "source": [
    "### STAT 3612 "
   ]
  },
  {
   "cell_type": "markdown",
   "metadata": {},
   "source": [
    "#### Learning Outcomes:\n",
    "- Become familiar with the group project workflow\n",
    "- Develop overall understanding of the project dataset\n",
    "- Perform basic EDA skills"
   ]
  },
  {
   "cell_type": "markdown",
   "metadata": {},
   "source": [
    "##### 1. Importing the required libraries for EDA."
   ]
  },
  {
   "cell_type": "code",
   "execution_count": 1,
   "metadata": {},
   "outputs": [],
   "source": [
    "import os\n",
    "import pandas as pd\n",
    "import numpy as np\n",
    "import seaborn as sns                       #visualisation\n",
    "import matplotlib.pyplot as plt             #visualisation\n",
    "%matplotlib inline     \n",
    "sns.set(color_codes=True)"
   ]
  },
  {
   "cell_type": "markdown",
   "metadata": {},
   "source": [
    "##### 2. Loading the data into the data frame."
   ]
  },
  {
   "cell_type": "code",
   "execution_count": 2,
   "metadata": {},
   "outputs": [],
   "source": [
    "# TODO: change this to yours ...\n",
    "DATA_DIR = \"./\"\n",
    "\n",
    "# read 3 csv files and 1 pkl file\n",
    "train_csv_file = os.path.join(DATA_DIR, \"train.csv\")\n",
    "val_csv_file = os.path.join(DATA_DIR, \"valid.csv\")\n",
    "test_csv_file = os.path.join(DATA_DIR, \"test.csv\")\n",
    "ehr_pkl_file = os.path.join(DATA_DIR, \"ehr_preprocessed_seq_by_day_cat_embedding.pkl\")\n",
    "\n",
    "train_df = pd.read_csv(train_csv_file)\n",
    "val_df = pd.read_csv(val_csv_file)\n",
    "test_df = pd.read_csv(test_csv_file)\n",
    "\n",
    "with open(ehr_pkl_file, 'rb') as f:\n",
    "    ehr_data = pd.read_pickle(f)"
   ]
  },
  {
   "cell_type": "markdown",
   "metadata": {},
   "source": [
    "#### 3. Check the type and shape of the data"
   ]
  },
  {
   "cell_type": "code",
   "execution_count": 3,
   "metadata": {},
   "outputs": [
    {
     "data": {
      "text/html": [
       "<div>\n",
       "<style scoped>\n",
       "    .dataframe tbody tr th:only-of-type {\n",
       "        vertical-align: middle;\n",
       "    }\n",
       "\n",
       "    .dataframe tbody tr th {\n",
       "        vertical-align: top;\n",
       "    }\n",
       "\n",
       "    .dataframe thead th {\n",
       "        text-align: right;\n",
       "    }\n",
       "</style>\n",
       "<table border=\"1\" class=\"dataframe\">\n",
       "  <thead>\n",
       "    <tr style=\"text-align: right;\">\n",
       "      <th></th>\n",
       "      <th>id</th>\n",
       "      <th>subject_id</th>\n",
       "      <th>hadm_id</th>\n",
       "      <th>admittime</th>\n",
       "      <th>dischtime</th>\n",
       "      <th>deathtime</th>\n",
       "      <th>dicom_id</th>\n",
       "      <th>study_id</th>\n",
       "      <th>ViewPosition</th>\n",
       "      <th>StudyDate</th>\n",
       "      <th>StudyTime</th>\n",
       "      <th>image_path</th>\n",
       "      <th>readmitted_within_30days</th>\n",
       "    </tr>\n",
       "  </thead>\n",
       "  <tbody>\n",
       "    <tr>\n",
       "      <th>0</th>\n",
       "      <td>10869829_25238191</td>\n",
       "      <td>10869829</td>\n",
       "      <td>25238191</td>\n",
       "      <td>2141-08-20 12:41:00</td>\n",
       "      <td>2141-09-01 13:22:00</td>\n",
       "      <td>NaN</td>\n",
       "      <td>78ab2105-42f58137-487be951-2fb5b70a-f3f76660</td>\n",
       "      <td>53096236</td>\n",
       "      <td>AP</td>\n",
       "      <td>21410828</td>\n",
       "      <td>90151.343</td>\n",
       "      <td>78ab2105-42f58137-487be951-2fb5b70a-f3f76660.jpg</td>\n",
       "      <td>0</td>\n",
       "    </tr>\n",
       "    <tr>\n",
       "      <th>1</th>\n",
       "      <td>10869829_25238191</td>\n",
       "      <td>10869829</td>\n",
       "      <td>25238191</td>\n",
       "      <td>2141-08-20 12:41:00</td>\n",
       "      <td>2141-09-01 13:22:00</td>\n",
       "      <td>NaN</td>\n",
       "      <td>64e61e55-13c7ddf7-70e4a8d8-940cec1c-084a6f23</td>\n",
       "      <td>53621244</td>\n",
       "      <td>AP</td>\n",
       "      <td>21410831</td>\n",
       "      <td>130627.031</td>\n",
       "      <td>64e61e55-13c7ddf7-70e4a8d8-940cec1c-084a6f23.jpg</td>\n",
       "      <td>0</td>\n",
       "    </tr>\n",
       "    <tr>\n",
       "      <th>2</th>\n",
       "      <td>10869829_25238191</td>\n",
       "      <td>10869829</td>\n",
       "      <td>25238191</td>\n",
       "      <td>2141-08-20 12:41:00</td>\n",
       "      <td>2141-09-01 13:22:00</td>\n",
       "      <td>NaN</td>\n",
       "      <td>cc0d53de-4a394a45-dde65f7c-b022a912-5c0d3e5c</td>\n",
       "      <td>56056422</td>\n",
       "      <td>AP</td>\n",
       "      <td>21410821</td>\n",
       "      <td>80228.937</td>\n",
       "      <td>cc0d53de-4a394a45-dde65f7c-b022a912-5c0d3e5c.jpg</td>\n",
       "      <td>0</td>\n",
       "    </tr>\n",
       "    <tr>\n",
       "      <th>3</th>\n",
       "      <td>17910612_22301530</td>\n",
       "      <td>17910612</td>\n",
       "      <td>22301530</td>\n",
       "      <td>2188-03-04 19:49:00</td>\n",
       "      <td>2188-04-19 00:00:00</td>\n",
       "      <td>2188-04-19 00:00:00</td>\n",
       "      <td>3407247f-bee23734-8593cc17-b5806e0f-04ddc762</td>\n",
       "      <td>50646505</td>\n",
       "      <td>AP</td>\n",
       "      <td>21880405</td>\n",
       "      <td>200636.062</td>\n",
       "      <td>3407247f-bee23734-8593cc17-b5806e0f-04ddc762.jpg</td>\n",
       "      <td>1</td>\n",
       "    </tr>\n",
       "    <tr>\n",
       "      <th>4</th>\n",
       "      <td>17910612_22301530</td>\n",
       "      <td>17910612</td>\n",
       "      <td>22301530</td>\n",
       "      <td>2188-03-04 19:49:00</td>\n",
       "      <td>2188-04-19 00:00:00</td>\n",
       "      <td>2188-04-19 00:00:00</td>\n",
       "      <td>36d0a0dc-8442b96f-efa8b4f2-c3618f4c-a311caac</td>\n",
       "      <td>50709541</td>\n",
       "      <td>AP</td>\n",
       "      <td>21880321</td>\n",
       "      <td>114135.046</td>\n",
       "      <td>36d0a0dc-8442b96f-efa8b4f2-c3618f4c-a311caac.jpg</td>\n",
       "      <td>1</td>\n",
       "    </tr>\n",
       "  </tbody>\n",
       "</table>\n",
       "</div>"
      ],
      "text/plain": [
       "                  id  subject_id   hadm_id            admittime  \\\n",
       "0  10869829_25238191    10869829  25238191  2141-08-20 12:41:00   \n",
       "1  10869829_25238191    10869829  25238191  2141-08-20 12:41:00   \n",
       "2  10869829_25238191    10869829  25238191  2141-08-20 12:41:00   \n",
       "3  17910612_22301530    17910612  22301530  2188-03-04 19:49:00   \n",
       "4  17910612_22301530    17910612  22301530  2188-03-04 19:49:00   \n",
       "\n",
       "             dischtime            deathtime  \\\n",
       "0  2141-09-01 13:22:00                  NaN   \n",
       "1  2141-09-01 13:22:00                  NaN   \n",
       "2  2141-09-01 13:22:00                  NaN   \n",
       "3  2188-04-19 00:00:00  2188-04-19 00:00:00   \n",
       "4  2188-04-19 00:00:00  2188-04-19 00:00:00   \n",
       "\n",
       "                                       dicom_id  study_id ViewPosition  \\\n",
       "0  78ab2105-42f58137-487be951-2fb5b70a-f3f76660  53096236           AP   \n",
       "1  64e61e55-13c7ddf7-70e4a8d8-940cec1c-084a6f23  53621244           AP   \n",
       "2  cc0d53de-4a394a45-dde65f7c-b022a912-5c0d3e5c  56056422           AP   \n",
       "3  3407247f-bee23734-8593cc17-b5806e0f-04ddc762  50646505           AP   \n",
       "4  36d0a0dc-8442b96f-efa8b4f2-c3618f4c-a311caac  50709541           AP   \n",
       "\n",
       "   StudyDate   StudyTime                                        image_path  \\\n",
       "0   21410828   90151.343  78ab2105-42f58137-487be951-2fb5b70a-f3f76660.jpg   \n",
       "1   21410831  130627.031  64e61e55-13c7ddf7-70e4a8d8-940cec1c-084a6f23.jpg   \n",
       "2   21410821   80228.937  cc0d53de-4a394a45-dde65f7c-b022a912-5c0d3e5c.jpg   \n",
       "3   21880405  200636.062  3407247f-bee23734-8593cc17-b5806e0f-04ddc762.jpg   \n",
       "4   21880321  114135.046  36d0a0dc-8442b96f-efa8b4f2-c3618f4c-a311caac.jpg   \n",
       "\n",
       "   readmitted_within_30days  \n",
       "0                         0  \n",
       "1                         0  \n",
       "2                         0  \n",
       "3                         1  \n",
       "4                         1  "
      ]
     },
     "execution_count": 3,
     "metadata": {},
     "output_type": "execute_result"
    }
   ],
   "source": [
    "train_df.head()"
   ]
  },
  {
   "cell_type": "code",
   "execution_count": 4,
   "metadata": {},
   "outputs": [
    {
     "name": "stdout",
     "output_type": "stream",
     "text": [
      "<class 'pandas.core.frame.DataFrame'>\n",
      "RangeIndex: 55941 entries, 0 to 55940\n",
      "Data columns (total 13 columns):\n",
      " #   Column                    Non-Null Count  Dtype  \n",
      "---  ------                    --------------  -----  \n",
      " 0   id                        55941 non-null  object \n",
      " 1   subject_id                55941 non-null  int64  \n",
      " 2   hadm_id                   55941 non-null  int64  \n",
      " 3   admittime                 55941 non-null  object \n",
      " 4   dischtime                 55941 non-null  object \n",
      " 5   deathtime                 8281 non-null   object \n",
      " 6   dicom_id                  55941 non-null  object \n",
      " 7   study_id                  55941 non-null  int64  \n",
      " 8   ViewPosition              55941 non-null  object \n",
      " 9   StudyDate                 55941 non-null  int64  \n",
      " 10  StudyTime                 55941 non-null  float64\n",
      " 11  image_path                55941 non-null  object \n",
      " 12  readmitted_within_30days  55941 non-null  int64  \n",
      "dtypes: float64(1), int64(5), object(7)\n",
      "memory usage: 5.5+ MB\n"
     ]
    }
   ],
   "source": [
    "train_df.info()"
   ]
  },
  {
   "cell_type": "code",
   "execution_count": 5,
   "metadata": {},
   "outputs": [
    {
     "name": "stdout",
     "output_type": "stream",
     "text": [
      "The unique number of subjects: 7464\n",
      "The unique number of admissions: 9271\n",
      "Average number of admissions per patient: 1.2420953912111468\n"
     ]
    }
   ],
   "source": [
    "n_patient = len(train_df[\"subject_id\"].unique())\n",
    "n_admission = len(train_df[\"hadm_id\"].unique())\n",
    "print(f\"The unique number of subjects: {n_patient}\")\n",
    "print(f\"The unique number of admissions: {n_admission}\")\n",
    "print(f\"Average number of admissions per patient: {n_admission/n_patient}\")"
   ]
  },
  {
   "cell_type": "code",
   "execution_count": 6,
   "metadata": {},
   "outputs": [],
   "source": [
    "# train_df.drop_duplicates(subset=[\"id\"], keep=\"first\")[\"readmitted_within_30days\"].value_counts()"
   ]
  },
  {
   "cell_type": "code",
   "execution_count": 7,
   "metadata": {},
   "outputs": [
    {
     "data": {
      "text/plain": [
       "<Axes: xlabel='readmitted_within_30days'>"
      ]
     },
     "execution_count": 7,
     "metadata": {},
     "output_type": "execute_result"
    },
    {
     "data": {
      "image/png": "[encoded data removed]",
      "text/plain": [
       "<Figure size 640x480 with 1 Axes>"
      ]
     },
     "metadata": {},
     "output_type": "display_data"
    }
   ],
   "source": [
    "train_df.drop_duplicates(subset=[\"id\"], keep=\"first\")[\"readmitted_within_30days\"].value_counts().plot.bar()"
   ]
  },
  {
   "cell_type": "code",
   "execution_count": 8,
   "metadata": {},
   "outputs": [
    {
     "name": "stdout",
     "output_type": "stream",
     "text": [
      "Type of EHR data: <class 'dict'>\n",
      "dict_keys(['feat_dict', 'feature_cols', 'cat_idxs', 'cat_dims', 'demo_cols', 'icd_cols', 'lab_cols', 'med_cols'])\n"
     ]
    }
   ],
   "source": [
    "print(f\"Type of EHR data: {type(ehr_data)}\")\n",
    "print(ehr_data.keys())"
   ]
  },
  {
   "cell_type": "code",
   "execution_count": 9,
   "metadata": {},
   "outputs": [
    {
     "name": "stdout",
     "output_type": "stream",
     "text": [
      "<class 'dict'>\n",
      "14532\n",
      "['10869829_25238191', '17910612_22301530', '16026764_21404901', '12347278_29852086', '18463717_24608289']\n"
     ]
    }
   ],
   "source": [
    "# Here we check the first key: feat_dict\n",
    "# It contains the features of each \n",
    "print(type(ehr_data[\"feat_dict\"]))\n",
    "print(len(ehr_data[\"feat_dict\"].keys()))\n",
    "print(list(ehr_data[\"feat_dict\"].keys())[:5])"
   ]
  },
  {
   "cell_type": "code",
   "execution_count": 10,
   "metadata": {},
   "outputs": [
    {
     "name": "stdout",
     "output_type": "stream",
     "text": [
      "<class 'numpy.ndarray'>\n",
      "(13, 171)\n"
     ]
    }
   ],
   "source": [
    "print(type(ehr_data[\"feat_dict\"][\"10869829_25238191\"]))\n",
    "print(ehr_data[\"feat_dict\"][\"10869829_25238191\"].shape)\n",
    "# For each admission, we have a matrix of shape (n_days, n_features) to represent its EHR feature,\n",
    "# where n_days is the number of days in the admission, and n_features (171) is the number of features."
   ]
  },
  {
   "cell_type": "code",
   "execution_count": 11,
   "metadata": {},
   "outputs": [
    {
     "name": "stdout",
     "output_type": "stream",
     "text": [
      "<class 'list'>\n",
      "38\n",
      "[1, 2, 94, 95, 96, 97, 98, 99, 100, 101, 102, 103, 104, 105, 106, 107, 108, 109, 110, 111, 112, 113, 114, 115, 116, 117, 118, 119, 120, 121, 122, 123, 124, 125, 126, 127, 128, 129]\n"
     ]
    }
   ],
   "source": [
    "print(type(ehr_data[\"cat_idxs\"]))\n",
    "print(len(ehr_data[\"cat_idxs\"]))\n",
    "print(ehr_data[\"cat_idxs\"][:])\n",
    "# cat_idxs denote the indices of categorical features in the feature matrix."
   ]
  },
  {
   "cell_type": "code",
   "execution_count": 12,
   "metadata": {},
   "outputs": [
    {
     "name": "stdout",
     "output_type": "stream",
     "text": [
      "<class 'list'>\n",
      "38\n",
      "[2, 7, 2, 2, 2, 2, 2, 2, 2, 2, 2, 2, 2, 2, 2, 2, 2, 2, 2, 2, 2, 2, 2, 2, 2, 2, 2, 2, 2, 2, 2, 2, 2, 2, 2, 2, 2, 2]\n"
     ]
    }
   ],
   "source": [
    "print(type(ehr_data[\"cat_dims\"]))\n",
    "print(len(ehr_data[\"cat_dims\"]))\n",
    "print(ehr_data[\"cat_dims\"][:])\n",
    "# cat_dims denote the feature dimension for each categorical feature."
   ]
  },
  {
   "cell_type": "markdown",
   "metadata": {},
   "source": [
    "The EHR data has 171 features, which can be divided into 4 groups:\n",
    "1. demongraphic features (3)\n",
    "2. ICD features (91)\n",
    "3. Laboratory test results (36)\n",
    "4. Medications (41)"
   ]
  },
  {
   "cell_type": "code",
   "execution_count": 13,
   "metadata": {},
   "outputs": [
    {
     "name": "stdout",
     "output_type": "stream",
     "text": [
      "<class 'list'>\n",
      "3\n",
      "['age', 'gender', 'ethnicity']\n"
     ]
    }
   ],
   "source": [
    "print(type(ehr_data[\"demo_cols\"]))\n",
    "print(len(ehr_data[\"demo_cols\"]))\n",
    "print(ehr_data[\"demo_cols\"])"
   ]
  },
  {
   "cell_type": "code",
   "execution_count": 14,
   "metadata": {},
   "outputs": [
    {
     "name": "stdout",
     "output_type": "stream",
     "text": [
      "<class 'list'>\n",
      "91\n",
      "['Y90-Y99', 'G30-G32', 'O85-O92', 'C60-C63', 'F40-F48']\n"
     ]
    }
   ],
   "source": [
    "print(type(ehr_data[\"icd_cols\"]))\n",
    "print(len(ehr_data[\"icd_cols\"]))\n",
    "print(ehr_data[\"icd_cols\"][:5])"
   ]
  },
  {
   "cell_type": "code",
   "execution_count": 15,
   "metadata": {},
   "outputs": [
    {
     "name": "stdout",
     "output_type": "stream",
     "text": [
      "<class 'list'>\n",
      "36\n",
      "['Creatinine Blood', 'Sodium Blood', 'pO2 Blood', 'Basophils Other Body Fluid', 'Basophils Pleural', 'Lactate Blood', 'Anion Gap Blood', 'Eosinophils Joint Fluid', 'Hemoglobin Blood', 'Chloride Blood', 'Eosinophils Ascites', 'pH Urine', 'Calcium, Total Blood', 'Lymphocytes Ascites', 'Eosinophils Other Body Fluid', 'Eosinophils Blood', 'Lymphocytes Blood', 'Basophils Joint Fluid', 'Hematocrit Blood', 'Potassium Blood', 'H Blood', 'Monocytes Blood', 'Eosinophils Pleural', 'Troponin T Blood', 'Neutrophils Blood', 'Bicarbonate Blood', 'Basophils Blood', 'Glucose Blood', 'Basophils Ascites', 'pH Blood', 'Platelet Count Blood', 'Lymphocytes Other Body Fluid', 'Monocytes Ascites', 'Lymphocytes Joint Fluid', 'Lymphocytes Pleural', 'pCO2 Blood']\n"
     ]
    }
   ],
   "source": [
    "print(type(ehr_data[\"lab_cols\"]))\n",
    "print(len(ehr_data[\"lab_cols\"]))\n",
    "print(ehr_data[\"lab_cols\"][:])"
   ]
  },
  {
   "cell_type": "code",
   "execution_count": 16,
   "metadata": {},
   "outputs": [
    {
     "name": "stdout",
     "output_type": "stream",
     "text": [
      "<class 'list'>\n",
      "41\n",
      "['UNCLASSIFIED DRUG PRODUCTS', 'HORMONES', 'THYROID PREPS', 'SMOKING DETERRENTS', 'ANTIFUNGALS', 'DIURETICS', 'DIAGNOSTIC', 'ANTICOAGULANTS', 'ANTIPARKINSON DRUGS', 'EENT PREPS', 'ANALGESICS', 'ANTIPARASITICS', 'CNS DRUGS', 'ANTIHISTAMINES', 'ANTIPLATELET DRUGS', 'PSYCHOTHERAPEUTIC DRUGS', 'ANTIARTHRITICS', 'CONTRACEPTIVES', 'SKIN PREPS', 'ANTINEOPLASTICS', 'ELECT/CALORIC/H2O', 'CARDIOVASCULAR', 'COUGH/COLD PREPARATIONS', 'MUSCLE RELAXANTS', 'ANTIINFECTIVES/MISCELLANEOUS', 'GASTROINTESTINAL', 'IMMUNOSUPPRESSANTS', 'ANTIVIRALS', 'BLOOD', 'ANTIASTHMATICS', 'CARDIAC DRUGS', 'PRE-NATAL VITAMINS', 'ANESTHETICS', 'ANTIBIOTICS', 'ANTIHYPERGLYCEMICS', 'ANTIINFLAM.TUMOR NECROSIS FACTOR INHIBITING AGENTS', 'SEDATIVE/HYPNOTICS', 'ANTIDOTES', 'AUTONOMIC DRUGS', 'VITAMINS', 'BIOLOGICALS']\n"
     ]
    }
   ],
   "source": [
    "print(type(ehr_data[\"med_cols\"]))\n",
    "print(len(ehr_data[\"med_cols\"]))\n",
    "print(ehr_data[\"med_cols\"][:])"
   ]
  },
  {
   "cell_type": "code",
   "execution_count": 17,
   "metadata": {},
   "outputs": [
    {
     "data": {
      "text/html": [
       "<div>\n",
       "<style scoped>\n",
       "    .dataframe tbody tr th:only-of-type {\n",
       "        vertical-align: middle;\n",
       "    }\n",
       "\n",
       "    .dataframe tbody tr th {\n",
       "        vertical-align: top;\n",
       "    }\n",
       "\n",
       "    .dataframe thead th {\n",
       "        text-align: right;\n",
       "    }\n",
       "</style>\n",
       "<table border=\"1\" class=\"dataframe\">\n",
       "  <thead>\n",
       "    <tr style=\"text-align: right;\">\n",
       "      <th></th>\n",
       "      <th>age</th>\n",
       "      <th>gender</th>\n",
       "      <th>ethnicity</th>\n",
       "      <th>Y90-Y99</th>\n",
       "      <th>G30-G32</th>\n",
       "      <th>O85-O92</th>\n",
       "      <th>C60-C63</th>\n",
       "      <th>F40-F48</th>\n",
       "      <th>M80-M85</th>\n",
       "      <th>R00-R09</th>\n",
       "      <th>...</th>\n",
       "      <th>PRE-NATAL VITAMINS</th>\n",
       "      <th>ANESTHETICS</th>\n",
       "      <th>ANTIBIOTICS</th>\n",
       "      <th>ANTIHYPERGLYCEMICS</th>\n",
       "      <th>ANTIINFLAM.TUMOR NECROSIS FACTOR INHIBITING AGENTS</th>\n",
       "      <th>SEDATIVE/HYPNOTICS</th>\n",
       "      <th>ANTIDOTES</th>\n",
       "      <th>AUTONOMIC DRUGS</th>\n",
       "      <th>VITAMINS</th>\n",
       "      <th>BIOLOGICALS</th>\n",
       "    </tr>\n",
       "  </thead>\n",
       "  <tbody>\n",
       "    <tr>\n",
       "      <th>0</th>\n",
       "      <td>52.0</td>\n",
       "      <td>1.0</td>\n",
       "      <td>6.0</td>\n",
       "      <td>0.0</td>\n",
       "      <td>0.0</td>\n",
       "      <td>0.0</td>\n",
       "      <td>0.0</td>\n",
       "      <td>0.0</td>\n",
       "      <td>0.0</td>\n",
       "      <td>0.0</td>\n",
       "      <td>...</td>\n",
       "      <td>0.0</td>\n",
       "      <td>0.0</td>\n",
       "      <td>18.0</td>\n",
       "      <td>4.0</td>\n",
       "      <td>0.0</td>\n",
       "      <td>3.0</td>\n",
       "      <td>0.0</td>\n",
       "      <td>0.0</td>\n",
       "      <td>0.0</td>\n",
       "      <td>0.0</td>\n",
       "    </tr>\n",
       "    <tr>\n",
       "      <th>1</th>\n",
       "      <td>52.0</td>\n",
       "      <td>1.0</td>\n",
       "      <td>6.0</td>\n",
       "      <td>0.0</td>\n",
       "      <td>0.0</td>\n",
       "      <td>0.0</td>\n",
       "      <td>0.0</td>\n",
       "      <td>0.0</td>\n",
       "      <td>0.0</td>\n",
       "      <td>0.0</td>\n",
       "      <td>...</td>\n",
       "      <td>0.0</td>\n",
       "      <td>0.0</td>\n",
       "      <td>18.0</td>\n",
       "      <td>4.0</td>\n",
       "      <td>0.0</td>\n",
       "      <td>3.0</td>\n",
       "      <td>0.0</td>\n",
       "      <td>0.0</td>\n",
       "      <td>0.0</td>\n",
       "      <td>0.0</td>\n",
       "    </tr>\n",
       "    <tr>\n",
       "      <th>2</th>\n",
       "      <td>52.0</td>\n",
       "      <td>1.0</td>\n",
       "      <td>6.0</td>\n",
       "      <td>0.0</td>\n",
       "      <td>0.0</td>\n",
       "      <td>0.0</td>\n",
       "      <td>0.0</td>\n",
       "      <td>0.0</td>\n",
       "      <td>0.0</td>\n",
       "      <td>0.0</td>\n",
       "      <td>...</td>\n",
       "      <td>0.0</td>\n",
       "      <td>0.0</td>\n",
       "      <td>18.0</td>\n",
       "      <td>4.0</td>\n",
       "      <td>0.0</td>\n",
       "      <td>3.0</td>\n",
       "      <td>0.0</td>\n",
       "      <td>0.0</td>\n",
       "      <td>0.0</td>\n",
       "      <td>0.0</td>\n",
       "    </tr>\n",
       "    <tr>\n",
       "      <th>3</th>\n",
       "      <td>52.0</td>\n",
       "      <td>1.0</td>\n",
       "      <td>6.0</td>\n",
       "      <td>0.0</td>\n",
       "      <td>0.0</td>\n",
       "      <td>0.0</td>\n",
       "      <td>0.0</td>\n",
       "      <td>0.0</td>\n",
       "      <td>0.0</td>\n",
       "      <td>0.0</td>\n",
       "      <td>...</td>\n",
       "      <td>0.0</td>\n",
       "      <td>0.0</td>\n",
       "      <td>18.0</td>\n",
       "      <td>4.0</td>\n",
       "      <td>0.0</td>\n",
       "      <td>3.0</td>\n",
       "      <td>0.0</td>\n",
       "      <td>0.0</td>\n",
       "      <td>0.0</td>\n",
       "      <td>0.0</td>\n",
       "    </tr>\n",
       "    <tr>\n",
       "      <th>4</th>\n",
       "      <td>52.0</td>\n",
       "      <td>1.0</td>\n",
       "      <td>6.0</td>\n",
       "      <td>0.0</td>\n",
       "      <td>0.0</td>\n",
       "      <td>0.0</td>\n",
       "      <td>0.0</td>\n",
       "      <td>0.0</td>\n",
       "      <td>0.0</td>\n",
       "      <td>0.0</td>\n",
       "      <td>...</td>\n",
       "      <td>0.0</td>\n",
       "      <td>0.0</td>\n",
       "      <td>18.0</td>\n",
       "      <td>4.0</td>\n",
       "      <td>0.0</td>\n",
       "      <td>3.0</td>\n",
       "      <td>0.0</td>\n",
       "      <td>0.0</td>\n",
       "      <td>0.0</td>\n",
       "      <td>0.0</td>\n",
       "    </tr>\n",
       "    <tr>\n",
       "      <th>5</th>\n",
       "      <td>52.0</td>\n",
       "      <td>1.0</td>\n",
       "      <td>6.0</td>\n",
       "      <td>0.0</td>\n",
       "      <td>0.0</td>\n",
       "      <td>0.0</td>\n",
       "      <td>0.0</td>\n",
       "      <td>0.0</td>\n",
       "      <td>0.0</td>\n",
       "      <td>0.0</td>\n",
       "      <td>...</td>\n",
       "      <td>0.0</td>\n",
       "      <td>0.0</td>\n",
       "      <td>18.0</td>\n",
       "      <td>4.0</td>\n",
       "      <td>0.0</td>\n",
       "      <td>3.0</td>\n",
       "      <td>0.0</td>\n",
       "      <td>0.0</td>\n",
       "      <td>0.0</td>\n",
       "      <td>0.0</td>\n",
       "    </tr>\n",
       "    <tr>\n",
       "      <th>6</th>\n",
       "      <td>52.0</td>\n",
       "      <td>1.0</td>\n",
       "      <td>6.0</td>\n",
       "      <td>0.0</td>\n",
       "      <td>0.0</td>\n",
       "      <td>0.0</td>\n",
       "      <td>0.0</td>\n",
       "      <td>0.0</td>\n",
       "      <td>0.0</td>\n",
       "      <td>0.0</td>\n",
       "      <td>...</td>\n",
       "      <td>0.0</td>\n",
       "      <td>0.0</td>\n",
       "      <td>18.0</td>\n",
       "      <td>4.0</td>\n",
       "      <td>0.0</td>\n",
       "      <td>3.0</td>\n",
       "      <td>0.0</td>\n",
       "      <td>0.0</td>\n",
       "      <td>0.0</td>\n",
       "      <td>0.0</td>\n",
       "    </tr>\n",
       "    <tr>\n",
       "      <th>7</th>\n",
       "      <td>52.0</td>\n",
       "      <td>1.0</td>\n",
       "      <td>6.0</td>\n",
       "      <td>0.0</td>\n",
       "      <td>0.0</td>\n",
       "      <td>0.0</td>\n",
       "      <td>0.0</td>\n",
       "      <td>0.0</td>\n",
       "      <td>0.0</td>\n",
       "      <td>0.0</td>\n",
       "      <td>...</td>\n",
       "      <td>0.0</td>\n",
       "      <td>0.0</td>\n",
       "      <td>18.0</td>\n",
       "      <td>4.0</td>\n",
       "      <td>0.0</td>\n",
       "      <td>3.0</td>\n",
       "      <td>0.0</td>\n",
       "      <td>0.0</td>\n",
       "      <td>0.0</td>\n",
       "      <td>0.0</td>\n",
       "    </tr>\n",
       "    <tr>\n",
       "      <th>8</th>\n",
       "      <td>52.0</td>\n",
       "      <td>1.0</td>\n",
       "      <td>6.0</td>\n",
       "      <td>0.0</td>\n",
       "      <td>0.0</td>\n",
       "      <td>0.0</td>\n",
       "      <td>0.0</td>\n",
       "      <td>0.0</td>\n",
       "      <td>0.0</td>\n",
       "      <td>0.0</td>\n",
       "      <td>...</td>\n",
       "      <td>0.0</td>\n",
       "      <td>0.0</td>\n",
       "      <td>18.0</td>\n",
       "      <td>4.0</td>\n",
       "      <td>0.0</td>\n",
       "      <td>3.0</td>\n",
       "      <td>0.0</td>\n",
       "      <td>0.0</td>\n",
       "      <td>0.0</td>\n",
       "      <td>0.0</td>\n",
       "    </tr>\n",
       "    <tr>\n",
       "      <th>9</th>\n",
       "      <td>52.0</td>\n",
       "      <td>1.0</td>\n",
       "      <td>6.0</td>\n",
       "      <td>0.0</td>\n",
       "      <td>0.0</td>\n",
       "      <td>0.0</td>\n",
       "      <td>0.0</td>\n",
       "      <td>0.0</td>\n",
       "      <td>0.0</td>\n",
       "      <td>0.0</td>\n",
       "      <td>...</td>\n",
       "      <td>0.0</td>\n",
       "      <td>0.0</td>\n",
       "      <td>18.0</td>\n",
       "      <td>4.0</td>\n",
       "      <td>0.0</td>\n",
       "      <td>3.0</td>\n",
       "      <td>0.0</td>\n",
       "      <td>0.0</td>\n",
       "      <td>0.0</td>\n",
       "      <td>0.0</td>\n",
       "    </tr>\n",
       "    <tr>\n",
       "      <th>10</th>\n",
       "      <td>52.0</td>\n",
       "      <td>1.0</td>\n",
       "      <td>6.0</td>\n",
       "      <td>0.0</td>\n",
       "      <td>0.0</td>\n",
       "      <td>0.0</td>\n",
       "      <td>0.0</td>\n",
       "      <td>0.0</td>\n",
       "      <td>0.0</td>\n",
       "      <td>0.0</td>\n",
       "      <td>...</td>\n",
       "      <td>0.0</td>\n",
       "      <td>0.0</td>\n",
       "      <td>18.0</td>\n",
       "      <td>4.0</td>\n",
       "      <td>0.0</td>\n",
       "      <td>3.0</td>\n",
       "      <td>0.0</td>\n",
       "      <td>0.0</td>\n",
       "      <td>0.0</td>\n",
       "      <td>0.0</td>\n",
       "    </tr>\n",
       "    <tr>\n",
       "      <th>11</th>\n",
       "      <td>52.0</td>\n",
       "      <td>1.0</td>\n",
       "      <td>6.0</td>\n",
       "      <td>0.0</td>\n",
       "      <td>0.0</td>\n",
       "      <td>0.0</td>\n",
       "      <td>0.0</td>\n",
       "      <td>0.0</td>\n",
       "      <td>0.0</td>\n",
       "      <td>0.0</td>\n",
       "      <td>...</td>\n",
       "      <td>0.0</td>\n",
       "      <td>0.0</td>\n",
       "      <td>18.0</td>\n",
       "      <td>4.0</td>\n",
       "      <td>0.0</td>\n",
       "      <td>3.0</td>\n",
       "      <td>0.0</td>\n",
       "      <td>0.0</td>\n",
       "      <td>0.0</td>\n",
       "      <td>0.0</td>\n",
       "    </tr>\n",
       "    <tr>\n",
       "      <th>12</th>\n",
       "      <td>52.0</td>\n",
       "      <td>1.0</td>\n",
       "      <td>6.0</td>\n",
       "      <td>0.0</td>\n",
       "      <td>0.0</td>\n",
       "      <td>0.0</td>\n",
       "      <td>0.0</td>\n",
       "      <td>0.0</td>\n",
       "      <td>0.0</td>\n",
       "      <td>0.0</td>\n",
       "      <td>...</td>\n",
       "      <td>0.0</td>\n",
       "      <td>0.0</td>\n",
       "      <td>18.0</td>\n",
       "      <td>4.0</td>\n",
       "      <td>0.0</td>\n",
       "      <td>3.0</td>\n",
       "      <td>0.0</td>\n",
       "      <td>0.0</td>\n",
       "      <td>0.0</td>\n",
       "      <td>0.0</td>\n",
       "    </tr>\n",
       "  </tbody>\n",
       "</table>\n",
       "<p>13 rows × 171 columns</p>\n",
       "</div>"
      ],
      "text/plain": [
       "     age  gender  ethnicity  Y90-Y99  G30-G32  O85-O92  C60-C63  F40-F48  \\\n",
       "0   52.0     1.0        6.0      0.0      0.0      0.0      0.0      0.0   \n",
       "1   52.0     1.0        6.0      0.0      0.0      0.0      0.0      0.0   \n",
       "2   52.0     1.0        6.0      0.0      0.0      0.0      0.0      0.0   \n",
       "3   52.0     1.0        6.0      0.0      0.0      0.0      0.0      0.0   \n",
       "4   52.0     1.0        6.0      0.0      0.0      0.0      0.0      0.0   \n",
       "5   52.0     1.0        6.0      0.0      0.0      0.0      0.0      0.0   \n",
       "6   52.0     1.0        6.0      0.0      0.0      0.0      0.0      0.0   \n",
       "7   52.0     1.0        6.0      0.0      0.0      0.0      0.0      0.0   \n",
       "8   52.0     1.0        6.0      0.0      0.0      0.0      0.0      0.0   \n",
       "9   52.0     1.0        6.0      0.0      0.0      0.0      0.0      0.0   \n",
       "10  52.0     1.0        6.0      0.0      0.0      0.0      0.0      0.0   \n",
       "11  52.0     1.0        6.0      0.0      0.0      0.0      0.0      0.0   \n",
       "12  52.0     1.0        6.0      0.0      0.0      0.0      0.0      0.0   \n",
       "\n",
       "    M80-M85  R00-R09  ...  PRE-NATAL VITAMINS  ANESTHETICS  ANTIBIOTICS  \\\n",
       "0       0.0      0.0  ...                 0.0          0.0         18.0   \n",
       "1       0.0      0.0  ...                 0.0          0.0         18.0   \n",
       "2       0.0      0.0  ...                 0.0          0.0         18.0   \n",
       "3       0.0      0.0  ...                 0.0          0.0         18.0   \n",
       "4       0.0      0.0  ...                 0.0          0.0         18.0   \n",
       "5       0.0      0.0  ...                 0.0          0.0         18.0   \n",
       "6       0.0      0.0  ...                 0.0          0.0         18.0   \n",
       "7       0.0      0.0  ...                 0.0          0.0         18.0   \n",
       "8       0.0      0.0  ...                 0.0          0.0         18.0   \n",
       "9       0.0      0.0  ...                 0.0          0.0         18.0   \n",
       "10      0.0      0.0  ...                 0.0          0.0         18.0   \n",
       "11      0.0      0.0  ...                 0.0          0.0         18.0   \n",
       "12      0.0      0.0  ...                 0.0          0.0         18.0   \n",
       "\n",
       "    ANTIHYPERGLYCEMICS  ANTIINFLAM.TUMOR NECROSIS FACTOR INHIBITING AGENTS  \\\n",
       "0                  4.0                                                0.0    \n",
       "1                  4.0                                                0.0    \n",
       "2                  4.0                                                0.0    \n",
       "3                  4.0                                                0.0    \n",
       "4                  4.0                                                0.0    \n",
       "5                  4.0                                                0.0    \n",
       "6                  4.0                                                0.0    \n",
       "7                  4.0                                                0.0    \n",
       "8                  4.0                                                0.0    \n",
       "9                  4.0                                                0.0    \n",
       "10                 4.0                                                0.0    \n",
       "11                 4.0                                                0.0    \n",
       "12                 4.0                                                0.0    \n",
       "\n",
       "    SEDATIVE/HYPNOTICS  ANTIDOTES  AUTONOMIC DRUGS  VITAMINS  BIOLOGICALS  \n",
       "0                  3.0        0.0              0.0       0.0          0.0  \n",
       "1                  3.0        0.0              0.0       0.0          0.0  \n",
       "2                  3.0        0.0              0.0       0.0          0.0  \n",
       "3                  3.0        0.0              0.0       0.0          0.0  \n",
       "4                  3.0        0.0              0.0       0.0          0.0  \n",
       "5                  3.0        0.0              0.0       0.0          0.0  \n",
       "6                  3.0        0.0              0.0       0.0          0.0  \n",
       "7                  3.0        0.0              0.0       0.0          0.0  \n",
       "8                  3.0        0.0              0.0       0.0          0.0  \n",
       "9                  3.0        0.0              0.0       0.0          0.0  \n",
       "10                 3.0        0.0              0.0       0.0          0.0  \n",
       "11                 3.0        0.0              0.0       0.0          0.0  \n",
       "12                 3.0        0.0              0.0       0.0          0.0  \n",
       "\n",
       "[13 rows x 171 columns]"
      ]
     },
     "execution_count": 17,
     "metadata": {},
     "output_type": "execute_result"
    }
   ],
   "source": [
    "# Here we create a dataframe to show the features of the admission: 10869829_25238191\n",
    "sample_df = pd.DataFrame(\n",
    "    ehr_data[\"feat_dict\"][\"10869829_25238191\"].astype(np.float32),\n",
    "    columns=ehr_data[\"demo_cols\"] + ehr_data[\"icd_cols\"] + ehr_data[\"lab_cols\"] + ehr_data[\"med_cols\"]\n",
    ")\n",
    "sample_df"
   ]
  },
  {
   "cell_type": "markdown",
   "metadata": {},
   "source": [
    "#### 4. Start point"
   ]
  },
  {
   "cell_type": "markdown",
   "metadata": {},
   "source": [
    "As a starting point, we can create a dataset using only the features from the last day. However, incorporating temporal information will likely improve performance."
   ]
  },
  {
   "cell_type": "code",
   "execution_count": 18,
   "metadata": {},
   "outputs": [
    {
     "name": "stdout",
     "output_type": "stream",
     "text": [
      "(55941, 171)\n",
      "(13598, 171)\n"
     ]
    }
   ],
   "source": [
    "X_train = []\n",
    "for idx, row in train_df.iterrows():\n",
    "    X_train.append(ehr_data[\"feat_dict\"][row[\"id\"]][-1])\n",
    "X_train = np.array(X_train)\n",
    "print(X_train.shape)\n",
    "\n",
    "X_val = []\n",
    "for idx, row in val_df.iterrows():\n",
    "    X_val.append(ehr_data[\"feat_dict\"][row[\"id\"]][-1])\n",
    "X_val = np.array(X_val)\n",
    "print(X_val.shape)"
   ]
  },
  {
   "cell_type": "markdown",
   "metadata": {},
   "source": [
    "#### After-Class Exercise\n",
    "\n",
    "1. Examine the standard deviation of the features in the dataset. Do all features contain useful information?\n",
    "2. Analyze the correlation between input features and labels.\n",
    "3. Develop classifiers (e.g., logistic regression, naive Bayes, etc.) for the task.\n",
    "4. Normalize your features and apply the classifier again."
   ]
  }
 ],
 "metadata": {
  "kernelspec": {
   "display_name": "learn",
   "language": "python",
   "name": "python3"
  },
  "language_info": {
   "codemirror_mode": {
    "name": "ipython",
    "version": 3
   },
   "file_extension": ".py",
   "mimetype": "text/x-python",
   "name": "python",
   "nbconvert_exporter": "python",
   "pygments_lexer": "ipython3",
   "version": "3.12.7"
  }
 },
 "nbformat": 4,
 "nbformat_minor": 2
}
