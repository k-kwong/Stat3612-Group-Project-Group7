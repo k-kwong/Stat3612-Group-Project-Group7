{
  "nbformat": 4,
  "nbformat_minor": 0,
  "metadata": {
    "colab": {
      "provenance": []
    },
    "kernelspec": {
      "name": "python3",
      "display_name": "Python 3"
    },
    "language_info": {
      "name": "python"
    }
  },
  "cells": [
    {
      "cell_type": "code",
      "source": [
        "import os\n",
        "import pandas as pd\n",
        "import numpy as np\n",
        "import seaborn as sns                       #visualisation\n",
        "import matplotlib.pyplot as plt             #visualisation\n",
        "%matplotlib inline\n",
        "sns.set(color_codes=True)"
      ],
      "metadata": {
        "id": "C_Yq0P0yrecf"
      },
      "execution_count": 6,
      "outputs": []
    },
    {
      "cell_type": "code",
      "source": [
        "# TODO: change this to yours ...\n",
        "DATA_DIR = \"/content/\"\n",
        "\n",
        "# read 3 csv files and 1 pkl file\n",
        "train_csv_file = os.path.join(DATA_DIR, \"train.csv\")\n",
        "val_csv_file = os.path.join(DATA_DIR, \"valid.csv\")\n",
        "test_csv_file = os.path.join(DATA_DIR, \"test.csv\")\n",
        "ehr_pkl_file = os.path.join(DATA_DIR, \"ehr_preprocessed_seq_by_day_cat_embedding.pkl\")\n",
        "\n",
        "train_df = pd.read_csv(train_csv_file)\n",
        "val_df = pd.read_csv(val_csv_file)\n",
        "test_df = pd.read_csv(test_csv_file)\n",
        "\n",
        "with open(ehr_pkl_file, 'rb') as f:\n",
        "    ehr_data = pd.read_pickle(f)"
      ],
      "metadata": {
        "id": "th_eVeCdrglv"
      },
      "execution_count": 7,
      "outputs": []
    },
    {
      "cell_type": "code",
      "source": [
        "\"\"\"\n",
        "#Option1 : Aggregate features by mean over the days\n",
        "\n",
        "# Extract EHR features and IDs\n",
        "ehr_features = ehr_data[\"feat_dict\"]\n",
        "ehr_ids = list(ehr_features.keys())\n",
        "\n",
        "# Convert to DataFrame (each row is an admission)\n",
        "ehr_df = pd.DataFrame({\n",
        "    \"id\": ehr_ids,\n",
        "    \"ehr_matrix\": [ehr_features[id] for id in ehr_ids]\n",
        "})\n",
        "\n",
        "# Merge with labels from train/val/test DataFrames\n",
        "def merge_labels(df, ehr_df):\n",
        "    return df[[\"id\", \"readmitted_within_30days\"]].merge(ehr_df, on=\"id\", how=\"inner\")\n",
        "\n",
        "train_ehr = merge_labels(train_df, ehr_df)\n",
        "val_ehr = merge_labels(val_df, ehr_df)\n",
        "\n",
        "\n",
        "def aggregate_ehr(df):\n",
        "    # Aggregate features (example: mean over days)\n",
        "    df[\"ehr_mean\"] = df[\"ehr_matrix\"].apply(lambda x: np.mean(x, axis=0))\n",
        "\n",
        "    # Convert to numpy arrays\n",
        "    X = np.stack(df[\"ehr_mean\"].values)\n",
        "    y = df[\"readmitted_within_30days\"].astype(int).values\n",
        "\n",
        "    return X, y\n",
        "\n",
        "X_train, y_train = aggregate_ehr(train_ehr)\n",
        "X_val, y_val = aggregate_ehr(val_ehr)\n",
        "\"\"\""
      ],
      "metadata": {
        "id": "6OstF1NkrkgQ"
      },
      "execution_count": 5,
      "outputs": []
    },
    {
      "cell_type": "code",
      "source": [
        "X_train = []\n",
        "for idx, row in train_df.iterrows():\n",
        "    X_train.append(ehr_data[\"feat_dict\"][row[\"id\"]][-1])\n",
        "X_train = np.array(X_train)\n",
        "print(X_train.shape)\n",
        "print('train_data:',X_train,'\\n')\n",
        "\n",
        "X_val = []\n",
        "for idx, row in val_df.iterrows():\n",
        "    X_val.append(ehr_data[\"feat_dict\"][row[\"id\"]][-1])\n",
        "X_val = np.array(X_val)\n",
        "print(X_val.shape)\n",
        "print('validation_data:,',X_val,'\\n')\n",
        "\n",
        "y_train = train_df['readmitted_within_30days'].values\n",
        "y_val = val_df['readmitted_within_30days'].values"
      ],
      "metadata": {
        "colab": {
          "base_uri": "https://localhost:8080/"
        },
        "id": "erCF7V7etfOA",
        "outputId": "e24de128-54d4-4ebd-ee4d-78a6dea6b501"
      },
      "execution_count": 9,
      "outputs": [
        {
          "output_type": "stream",
          "name": "stdout",
          "text": [
            "(49451, 171)\n",
            "train_data: [[52  1  6 ...  0  0  0]\n",
            " [52  1  6 ...  0  0  0]\n",
            " [52  1  6 ...  0  0  0]\n",
            " ...\n",
            " [91  1  6 ...  0  0  1]\n",
            " [69  0  6 ...  0  0  0]\n",
            " [69  0  6 ...  0  0  0]] \n",
            "\n",
            "(16721, 171)\n",
            "validation_data:, [[75  0  6 ...  3  6  0]\n",
            " [75  0  6 ...  3  6  0]\n",
            " [75  0  6 ...  3  6  0]\n",
            " ...\n",
            " [77  1  6 ...  0  0  0]\n",
            " [49  1  6 ...  0  0  0]\n",
            " [49  1  6 ...  0  0  0]] \n",
            "\n"
          ]
        }
      ]
    },
    {
      "cell_type": "code",
      "source": [
        "from scipy.stats import pointbiserialr\n",
        "# initialize storage for std_devs\n",
        "std_devs = np.std(X_train, axis=0)\n",
        "\n",
        "\n",
        "feature_names = ehr_data[\"feature_cols\"]\n",
        "\n",
        "# Create a DataFrame for analysis\n",
        "std_df = pd.DataFrame({\n",
        "    \"Feature\": feature_names,\n",
        "    \"Std_Dev\": std_devs\n",
        "})\n",
        "\n",
        "# Initialize storage\n",
        "correlations = []\n",
        "p_values = []\n",
        "\n",
        "# Calculate correlation for each feature\n",
        "for i in range(X_train.shape[1]):\n",
        "    if np.std(X_train[:, i]) == 0:  # Skip constant features\n",
        "        correlations.append(0)\n",
        "        p_values.append(1)\n",
        "    else:\n",
        "        corr, pval = pointbiserialr(X_train[:, i], y_train)\n",
        "        correlations.append(corr)\n",
        "        p_values.append(pval)\n",
        "\n",
        "\n",
        "# Create results DataFrame\n",
        "corr_df = pd.DataFrame({\n",
        "    \"Feature\": feature_names,\n",
        "    \"Correlation\": correlations,\n",
        "    \"P-value\": p_values\n",
        "})\n",
        "\n",
        "\n",
        "# Sort by absolute correlation strength\n",
        "corr_df[\"Abs_Correlation\"] = np.abs(corr_df[\"Correlation\"])\n",
        "corr_df = corr_df.sort_values(\"Abs_Correlation\", ascending=True)\n",
        "\n",
        "# Function to analyze zero-value ratio in features\n",
        "def analyze_zeros(ehr_data, feature_cols, threshold=0.5):\n",
        "\n",
        "    all_zeros = []\n",
        "    for feature_name, feature_idx in zip(feature_cols, range(len(feature_cols))):\n",
        "        zeros_count = np.sum([np.sum(matrix[:, feature_idx] == 0) for matrix in ehr_data[\"feat_dict\"].values()])\n",
        "        total_values = sum([matrix.shape[0] for matrix in ehr_data[\"feat_dict\"].values()])\n",
        "        zero_ratio = zeros_count / total_values\n",
        "        if zero_ratio > threshold:\n",
        "            all_zeros.append((feature_name, zero_ratio))\n",
        "    return pd.DataFrame(all_zeros, columns=[\"Feature\", \"Zero_Ratio\"])\n",
        "\n",
        "# Analyze zero-value ratio for each feature category\n",
        "demo_zero_df = analyze_zeros(ehr_data, ehr_data[\"demo_cols\"])\n",
        "icd_zero_df = analyze_zeros(ehr_data, ehr_data[\"icd_cols\"])\n",
        "lab_zero_df = analyze_zeros(ehr_data, ehr_data[\"lab_cols\"])\n",
        "med_zero_df = analyze_zeros(ehr_data, ehr_data[\"med_cols\"])\n",
        "\n",
        "# Combine all zero-value data\n",
        "zero_df = pd.concat([demo_zero_df, icd_zero_df, lab_zero_df, med_zero_df])\n",
        "\n",
        "# Merge zero-value data with std and correlation data\n",
        "combined_df = pd.merge(pd.merge(std_df, corr_df, on='Feature'), zero_df, on='Feature', how='left')\n",
        "\n",
        "clinically_relevant = [\n",
        "    # Labs\n",
        "    'Creatinine Blood', 'Hemoglobin Blood', 'Hematocrit Blood',\n",
        "    'Potassium Blood', 'Sodium Blood', 'Glucose Blood',\n",
        "    'Troponin T Blood', 'Platelet Count Blood', 'Eosinophils Blood',\n",
        "    'pH Urine', 'pO2 Blood', 'pCO2 Blood', 'Anion Gap Blood',\n",
        "\n",
        "    # ICD-10\n",
        "    'I10-I16', 'N17-N19', 'J09-J18', 'E70-E88', 'I30-I52',\n",
        "    'J40-J47', 'B20-B20',\n",
        "\n",
        "    # Drugs\n",
        "    'ANTICOAGULANTS', 'ANTIBIOTICS', 'IMMUNOSUPPRESSANTS',\n",
        "    'ANTIINFLAM.TUMOR NECROSIS FACTOR INHIBITING AGENTS'\n",
        "]\n",
        "\n",
        "\n",
        "thresholds = {\n",
        "    'zero_ratio': {\n",
        "        'icd': 0.95,    # ICD codes often sparse\n",
        "        'med': 0.95,    # Medications often sparse\n",
        "        'lab': 0.95,    # Labs should rarely be zero\n",
        "        'demo': 0.9     # Demographics rarely zero\n",
        "    },\n",
        "    'std_dev': 0.01,    # Only for continuous features\n",
        "    'correlation': {\n",
        "        'min_abs_corr': 0.01,\n",
        "        'max_pvalue': 0.05\n",
        "    }\n",
        "}\n",
        "\n",
        "# Categorize features\n",
        "feature_types = {\n",
        "    'icd': ehr_data[\"icd_cols\"],\n",
        "    'med': ehr_data[\"med_cols\"],\n",
        "    'lab': ehr_data[\"lab_cols\"],\n",
        "    'demo': ehr_data[\"demo_cols\"]\n",
        "}\n",
        "\n",
        "# Initialize storage\n",
        "features_to_remove = []\n",
        "\n",
        "\n",
        "# Check each feature type separately\n",
        "for ftype, cols in feature_types.items():\n",
        "    for feature in cols:\n",
        "        row = combined_df[combined_df['Feature'] == feature].iloc[0]\n",
        "\n",
        "        # Skip binary features for variance check\n",
        "        check_variance = ftype not in ['icd']\n",
        "\n",
        "        # Apply type-specific rules\n",
        "        if (row['Zero_Ratio'] > thresholds['zero_ratio'][ftype]) and \\\n",
        "           (not check_variance or row['Std_Dev'] < thresholds['std_dev']) and \\\n",
        "           (np.abs(row['Correlation']) < thresholds['correlation']['min_abs_corr']) and \\\n",
        "           (row['P-value'] > thresholds['correlation']['max_pvalue']):\n",
        "            features_to_remove.append(feature)\n",
        "\n",
        "\n",
        "\n",
        "\n",
        "filtered_df = combined_df[~combined_df['Feature'].isin(clinically_relevant)]\n",
        "# Generate report\n",
        "removal_df = filtered_df[filtered_df['Feature'].isin(features_to_remove)].sort_values(\n",
        "    by=['Zero_Ratio', 'Std_Dev', 'Abs_Correlation'],\n",
        "    ascending=[False, True, True]\n",
        ")\n",
        "\n",
        "# Get indices of features to remove\n",
        "features_to_remove = removal_df['Feature'].tolist()\n",
        "all_features = ehr_data[\"feature_cols\"]\n",
        "remove_indices = [i for i, feature in enumerate(all_features)\n",
        "                 if feature in features_to_remove]\n",
        "\n",
        "#  Function to remove features\n",
        "def remove_features(X, remove_indices):\n",
        "    return np.delete(X, remove_indices, axis=1)\n",
        "\n",
        "#  Apply to both training and validation sets\n",
        "X_train_filtered = remove_features(X_train, remove_indices)\n",
        "X_val_filtered = remove_features(X_val, remove_indices)\n",
        "\n",
        "# 4. Get remaining feature names\n",
        "remaining_features = [f for i, f in enumerate(all_features)\n",
        "                     if i not in remove_indices]"
      ],
      "metadata": {
        "colab": {
          "base_uri": "https://localhost:8080/"
        },
        "id": "ge0rcuOHrlDH",
        "outputId": "7e07219c-f9db-478c-8931-210200e947e5"
      },
      "execution_count": 8,
      "outputs": [
        {
          "output_type": "stream",
          "name": "stderr",
          "text": [
            "<ipython-input-8-3883940c9813>:60: FutureWarning: The behavior of DataFrame concatenation with empty or all-NA entries is deprecated. In a future version, this will no longer exclude empty or all-NA columns when determining the result dtypes. To retain the old behavior, exclude the relevant entries before the concat operation.\n",
            "  zero_df = pd.concat([demo_zero_df, icd_zero_df, lab_zero_df, med_zero_df])\n"
          ]
        }
      ]
    },
    {
      "cell_type": "code",
      "source": [
        "# print preprocessing result\n",
        "\n",
        "print(f\"\\nRecommended features to remove (last) ({len(removal_df)} total):\")\n",
        "print(removal_df[['Feature', 'Zero_Ratio', 'Std_Dev', 'Correlation', 'P-value']])\n",
        "print(\"Recommended removal features list:\")\n",
        "print(removal_df['Feature'].tolist())"
      ],
      "metadata": {
        "colab": {
          "base_uri": "https://localhost:8080/"
        },
        "id": "f14cz-eVrm19",
        "outputId": "ec91bc09-9f4a-4ab7-d1cc-690f625545a6"
      },
      "execution_count": 10,
      "outputs": [
        {
          "output_type": "stream",
          "name": "stdout",
          "text": [
            "\n",
            "Recommended features to remove (last) (39 total):\n",
            "                   Feature  Zero_Ratio   Std_Dev  Correlation   P-value\n",
            "54                 K65-K68    0.999950  0.015576    -0.008536  0.057676\n",
            "24                 R40-R46    0.999950  0.102142    -0.003603  0.423045\n",
            "8                  M80-M85    0.999909  0.007789    -0.004268  0.342633\n",
            "29                 B25-B34    0.999877  0.029816     0.004573  0.309156\n",
            "26                 N20-N23    0.999863  0.008993    -0.004928  0.273169\n",
            "73                 N60-N65    0.999831  0.025824     0.006283  0.162356\n",
            "47                 G89-G99    0.999813  0.182042     0.007699  0.086893\n",
            "44                 M50-M54    0.999786  0.000000     0.000000  1.000000\n",
            "111  Basophils Joint Fluid    0.999758  0.000000     0.000000  1.000000\n",
            "57                 B65-B83    0.999735  0.006359    -0.003484  0.438443\n",
            "80                 K40-K46    0.999667  0.000000     0.000000  1.000000\n",
            "93                 R90-R94    0.999653  0.000000     0.000000  1.000000\n",
            "39                 A20-A28    0.999640  0.000000     0.000000  1.000000\n",
            "15                 H30-H36    0.999631  0.008993    -0.004928  0.273169\n",
            "10                 J90-J94    0.999631  0.203612    -0.003009  0.503484\n",
            "41                 E89-E89    0.999621  0.008993    -0.004928  0.273169\n",
            "70                 K00-K14    0.999553  0.010055    -0.005509  0.220519\n",
            "21                 N30-N39    0.999380  0.011014    -0.006035  0.179564\n",
            "17                 N00-N08    0.999270  0.000000     0.000000  1.000000\n",
            "65                 B50-B64    0.999083  0.038393     0.007682  0.087577\n",
            "66                 O60-O77    0.999042  0.000000     0.000000  1.000000\n",
            "58                 E40-E46    0.998996  0.216559    -0.000892  0.842838\n",
            "82                 Q00-Q07    0.998910  0.006359    -0.003484  0.438443\n",
            "32                 C73-C75    0.998837  0.006359    -0.003484  0.438443\n",
            "77                 M05-M14    0.998764  0.011897    -0.006519  0.147156\n",
            "7                  F40-F48    0.998714  0.006359    -0.003484  0.438443\n",
            "79                 B35-B49    0.998686  0.031782     0.008239  0.066943\n",
            "72                 J00-J06    0.998367  0.000000     0.000000  1.000000\n",
            "49                 J30-J39    0.997847  0.000000     0.000000  1.000000\n",
            "161     PRE-NATAL VITAMINS    0.997774  0.006359    -0.003484  0.438443\n",
            "114                H Blood    0.997163  0.001124     0.004928  0.273169\n",
            "23                 F50-F59    0.997163  0.006359    -0.003484  0.438443\n",
            "89                 D3A-D3A    0.996880  0.010055    -0.005509  0.220519\n",
            "55                 R10-R19    0.996123  0.023360     0.007737  0.085331\n",
            "38                 M60-M63    0.996054  0.014913    -0.008172  0.069168\n",
            "74                 D37-D48    0.994549  0.038915    -0.002856  0.525432\n",
            "51                 Q65-Q79    0.989468  0.000000     0.000000  1.000000\n",
            "12                 E00-E07    0.973535  0.015576    -0.008536  0.057676\n",
            "50                 N25-N29    0.964631  0.000000     0.000000  1.000000\n",
            "Recommended removal features list:\n",
            "['K65-K68', 'R40-R46', 'M80-M85', 'B25-B34', 'N20-N23', 'N60-N65', 'G89-G99', 'M50-M54', 'Basophils Joint Fluid', 'B65-B83', 'K40-K46', 'R90-R94', 'A20-A28', 'H30-H36', 'J90-J94', 'E89-E89', 'K00-K14', 'N30-N39', 'N00-N08', 'B50-B64', 'O60-O77', 'E40-E46', 'Q00-Q07', 'C73-C75', 'M05-M14', 'F40-F48', 'B35-B49', 'J00-J06', 'J30-J39', 'PRE-NATAL VITAMINS', 'H Blood', 'F50-F59', 'D3A-D3A', 'R10-R19', 'M60-M63', 'D37-D48', 'Q65-Q79', 'E00-E07', 'N25-N29']\n"
          ]
        }
      ]
    },
    {
      "cell_type": "code",
      "source": [
        "SAVE_DIR = \"/content\"\n",
        "os.makedirs(SAVE_DIR, exist_ok=True)\n",
        "\n",
        "train_data = pd.DataFrame(X_train_filtered, columns=remaining_features)\n",
        "train_data[\"readmitted_within_30days\"] = y_train\n",
        "train_data.to_csv(os.path.join(SAVE_DIR, \"train_processed.csv\"), index=False)\n",
        "\n",
        "val_data = pd.DataFrame(X_val_filtered, columns=remaining_features)\n",
        "val_data[\"readmitted_within_30days\"] = y_val\n",
        "val_data.to_csv(os.path.join(SAVE_DIR, \"val_processed.csv\"), index=False)"
      ],
      "metadata": {
        "id": "U0edliNMrosg"
      },
      "execution_count": 11,
      "outputs": []
    },
    {
      "cell_type": "code",
      "source": [
        "def merge_labels(df, ehr_df, is_test=False):\n",
        "    if is_test:\n",
        "        return df[[\"id\"]].merge(ehr_df, on=\"id\", how=\"inner\")\n",
        "    else:\n",
        "        return df[[\"id\", \"readmitted_within_30days\"]].merge(ehr_df, on=\"id\", how=\"inner\")\n",
        "\n",
        "test_ehr = merge_labels(test_df, ehr_df, is_test=True)\n",
        "\n",
        "def aggregate_ehr_test(df):\n",
        "    df[\"ehr_mean\"] = df[\"ehr_matrix\"].apply(lambda x: np.mean(x, axis=0))\n",
        "    X = np.stack(df[\"ehr_mean\"].values)\n",
        "    return X\n",
        "\n",
        "X_test = aggregate_ehr_test(test_ehr)\n",
        "X_test_filtered = remove_features(X_test, remove_indices)\n",
        "\n",
        "test_data = pd.DataFrame(X_test_filtered, columns=remaining_features)\n",
        "test_data.to_csv(os.path.join(SAVE_DIR, \"test_processed.csv\"), index=False)"
      ],
      "metadata": {
        "id": "oaJUuJVlrt2q"
      },
      "execution_count": 12,
      "outputs": []
    },
    {
      "cell_type": "code",
      "source": [
        "from sklearn.ensemble import RandomForestClassifier\n",
        "from sklearn.metrics import roc_auc_score\n",
        "from sklearn.model_selection import train_test_split\n",
        "import pandas as pd\n",
        "import numpy as np"
      ],
      "metadata": {
        "id": "8uCXODlerurg"
      },
      "execution_count": 13,
      "outputs": []
    },
    {
      "cell_type": "markdown",
      "source": [
        "last day"
      ],
      "metadata": {
        "id": "PrbtZbUaBig5"
      }
    },
    {
      "cell_type": "code",
      "source": [
        "rf_model = RandomForestClassifier(n_estimators=100, random_state=42, class_weight='balanced')\n",
        "\n",
        "rf_model.fit(X_train, y_train)\n",
        "\n",
        "y_val_pred = rf_model.predict_proba(X_val)[:, 1]\n",
        "\n",
        "auroc_val = roc_auc_score(y_val, y_val_pred)\n",
        "print(f\"AUROC before preprocessing: {auroc_val}\")"
      ],
      "metadata": {
        "colab": {
          "base_uri": "https://localhost:8080/"
        },
        "id": "lYC_jvzNtpgG",
        "outputId": "7fc01c60-f0bc-4d66-a48a-b902e467109c"
      },
      "execution_count": 17,
      "outputs": [
        {
          "output_type": "stream",
          "name": "stdout",
          "text": [
            "AUROC before preprocessing: 0.7583467128124204\n"
          ]
        }
      ]
    },
    {
      "cell_type": "code",
      "source": [
        "X_train_filtered = remove_features(X_train, remove_indices)\n",
        "X_val_filtered = remove_features(X_val, remove_indices)\n",
        "\n",
        "rf_model.fit(X_train_filtered, y_train)\n",
        "\n",
        "y_val_pred = rf_model.predict_proba(X_val_filtered)[:, 1]\n",
        "\n",
        "auroc_val = roc_auc_score(y_val, y_val_pred)\n",
        "print(f\"AUROC after preprocessing: {auroc_val}\")"
      ],
      "metadata": {
        "colab": {
          "base_uri": "https://localhost:8080/"
        },
        "id": "2E40b_JFugXP",
        "outputId": "e7a34f1c-0015-49ee-a237-0e057fa24822"
      },
      "execution_count": 18,
      "outputs": [
        {
          "output_type": "stream",
          "name": "stdout",
          "text": [
            "AUROC after preprocessing: 0.7696181319338177\n"
          ]
        }
      ]
    },
    {
      "cell_type": "code",
      "source": [
        "from sklearn.ensemble import RandomForestClassifier\n",
        "from sklearn.metrics import roc_auc_score\n",
        "import numpy as np\n",
        "\n",
        "random_states = np.random.randint(1, 100, 10)  # 随机生成 10 个不同的 random_state 值\n",
        "\n",
        "auroc_scores_preprocessed = []\n",
        "auroc_scores_raw = []\n",
        "\n",
        "for random_state in random_states:\n",
        "    rf_model_raw = RandomForestClassifier(n_estimators=100, random_state=random_state, class_weight='balanced')\n",
        "\n",
        "    rf_model_raw.fit(X_train, y_train)\n",
        "\n",
        "    y_val_pred_raw = rf_model_raw.predict_proba(X_val)[:, 1]\n",
        "\n",
        "    auroc_val_raw = roc_auc_score(y_val, y_val_pred_raw)\n",
        "    auroc_scores_raw.append(auroc_val_raw)\n",
        "\n",
        "    rf_model_filtered = RandomForestClassifier(n_estimators=100, random_state=random_state, class_weight='balanced')\n",
        "\n",
        "    rf_model_filtered.fit(X_train_filtered, y_train)\n",
        "\n",
        "    y_val_pred_filtered = rf_model_filtered.predict_proba(X_val_filtered)[:, 1]\n",
        "\n",
        "    auroc_val_filtered = roc_auc_score(y_val, y_val_pred_filtered)\n",
        "    auroc_scores_preprocessed.append(auroc_val_filtered)\n",
        "\n",
        "average_auroc_raw = np.mean(auroc_scores_raw)\n",
        "average_auroc_filtered = np.mean(auroc_scores_preprocessed)\n",
        "\n",
        "print(f\"Average AUROC of the model before preprocessing: {average_auroc_raw}\")\n",
        "print(f\"Average AUROC of the model after preprocessing: {average_auroc_filtered}\")"
      ],
      "metadata": {
        "colab": {
          "base_uri": "https://localhost:8080/"
        },
        "id": "OSFhFY4ju9vm",
        "outputId": "45580f90-e718-4d33-b4b7-5e19352a3758"
      },
      "execution_count": 20,
      "outputs": [
        {
          "output_type": "stream",
          "name": "stdout",
          "text": [
            "Average AUROC of the model before preprocessing: 0.757196710222201\n",
            "Average AUROC of the model after preprocessing: 0.7629648885807192\n"
          ]
        }
      ]
    }
  ]
}