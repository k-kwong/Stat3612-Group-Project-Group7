{
  "cells": [
    {
      "cell_type": "code",
      "execution_count": 1,
      "metadata": {
        "id": "KYz_S21XS7WE"
      },
      "outputs": [],
      "source": [
        "import os\n",
        "import pandas as pd\n",
        "import numpy as np\n",
        "import seaborn as sns                       #visualisation\n",
        "import matplotlib.pyplot as plt             #visualisation\n",
        "%matplotlib inline\n",
        "sns.set(color_codes=True)"
      ]
    },
    {
      "cell_type": "code",
      "execution_count": 2,
      "metadata": {
        "colab": {
          "base_uri": "https://localhost:8080/"
        },
        "id": "camJOqBlTFWg",
        "outputId": "0afc9b38-f3bf-4d66-9e58-063efc380103"
      },
      "outputs": [
        {
          "name": "stdout",
          "output_type": "stream",
          "text": [
            "Mounted at /content/drive\n"
          ]
        }
      ],
      "source": [
        "from google.colab import drive\n",
        "drive.mount('/content/drive')"
      ]
    },
    {
      "cell_type": "code",
      "execution_count": 8,
      "metadata": {
        "id": "XeulA19PS7WH"
      },
      "outputs": [],
      "source": [
        "# TODO: change this to yours ...\n",
        "DATA_DIR = \"/content/drive/MyDrive/untitled folder\"\n",
        "\n",
        "# read 3 csv files and 1 pkl file\n",
        "train_csv_file = os.path.join(DATA_DIR, \"train.csv\")\n",
        "val_csv_file = os.path.join(DATA_DIR, \"valid.csv\")\n",
        "test_csv_file = os.path.join(DATA_DIR, \"test.csv\")\n",
        "ehr_pkl_file = os.path.join(DATA_DIR, \"ehr_preprocessed_seq_by_day_cat_embedding.pkl\")\n",
        "\n",
        "train_df = pd.read_csv(train_csv_file)\n",
        "val_df = pd.read_csv(val_csv_file)\n",
        "test_df = pd.read_csv(test_csv_file)\n",
        "\n",
        "with open(ehr_pkl_file, 'rb') as f:\n",
        "    ehr_data = pd.read_pickle(f)"
      ]
    },
    {
      "cell_type": "code",
      "execution_count": 14,
      "metadata": {
        "colab": {
          "base_uri": "https://localhost:8080/"
        },
        "id": "pJSRTG96S7WJ",
        "outputId": "6d6b5734-ebf9-4739-9eba-713086d18315"
      },
      "outputs": [
        {
          "name": "stdout",
          "output_type": "stream",
          "text": [
            "(49451, 171)\n",
            "train_data: [[52  1  6 ...  0  0  0]\n",
            " [52  1  6 ...  0  0  0]\n",
            " [52  1  6 ...  0  0  0]\n",
            " ...\n",
            " [91  1  6 ...  0  0  1]\n",
            " [69  0  6 ...  0  0  0]\n",
            " [69  0  6 ...  0  0  0]] \n",
            "\n",
            "(16721, 171)\n",
            "validation_data:, [[75  0  6 ...  3  6  0]\n",
            " [75  0  6 ...  3  6  0]\n",
            " [75  0  6 ...  3  6  0]\n",
            " ...\n",
            " [77  1  6 ...  0  0  0]\n",
            " [49  1  6 ...  0  0  0]\n",
            " [49  1  6 ...  0  0  0]] \n",
            "\n"
          ]
        }
      ],
      "source": [
        "#Option 2 Aggregate features by last day\n",
        "\n",
        "X_train = []\n",
        "for idx, row in train_df.iterrows():\n",
        "    X_train.append(ehr_data[\"feat_dict\"][row[\"id\"]][-1])\n",
        "X_train = np.array(X_train)\n",
        "print(X_train.shape)\n",
        "print('train_data:',X_train,'\\n')\n",
        "\n",
        "X_val = []\n",
        "for idx, row in val_df.iterrows():\n",
        "    X_val.append(ehr_data[\"feat_dict\"][row[\"id\"]][-1])\n",
        "X_val = np.array(X_val)\n",
        "print(X_val.shape)\n",
        "print('validation_data:,',X_val,'\\n')\n",
        "\n",
        "\n",
        "\n",
        "\n",
        "y_train = train_df['readmitted_within_30days'].values\n",
        "y_val = val_df['readmitted_within_30days'].values\n",
        "\n"
      ]
    },
    {
      "cell_type": "code",
      "execution_count": 15,
      "metadata": {
        "colab": {
          "base_uri": "https://localhost:8080/"
        },
        "id": "8sV5oB4cS7WK",
        "outputId": "29fc53f2-7011-4fc4-aed4-a47894c3ab21"
      },
      "outputs": [
        {
          "name": "stderr",
          "output_type": "stream",
          "text": [
            "<ipython-input-15-16d80753e81d>:67: FutureWarning: The behavior of DataFrame concatenation with empty or all-NA entries is deprecated. In a future version, this will no longer exclude empty or all-NA columns when determining the result dtypes. To retain the old behavior, exclude the relevant entries before the concat operation.\n",
            "  zero_df = pd.concat([demo_zero_df, icd_zero_df, lab_zero_df, med_zero_df])\n"
          ]
        }
      ],
      "source": [
        "from scipy.stats import pointbiserialr\n",
        "# initialize storage for std_devs\n",
        "std_devs = np.std(X_train, axis=0)\n",
        "\n",
        "\n",
        "feature_names = ehr_data[\"feature_cols\"]\n",
        "\n",
        "# Create a DataFrame for analysis\n",
        "std_df = pd.DataFrame({\n",
        "    \"Feature\": feature_names,\n",
        "    \"Std_Dev\": std_devs\n",
        "})\n",
        "\n",
        "\n",
        "\n",
        "# Initialize storage\n",
        "correlations = []\n",
        "p_values = []\n",
        "\n",
        "\n",
        "# Calculate correlation for each feature\n",
        "for i in range(X_train.shape[1]):\n",
        "    if np.std(X_train[:, i]) == 0:  # Skip constant features\n",
        "        correlations.append(0)\n",
        "        p_values.append(1)\n",
        "    else:\n",
        "        corr, pval = pointbiserialr(X_train[:, i], y_train)\n",
        "        correlations.append(corr)\n",
        "        p_values.append(pval)\n",
        "\n",
        "\n",
        "\n",
        "# Create results DataFrame\n",
        "corr_df = pd.DataFrame({\n",
        "    \"Feature\": feature_names,\n",
        "    \"Correlation\": correlations,\n",
        "    \"P-value\": p_values\n",
        "})\n",
        "\n",
        "\n",
        "\n",
        "# Sort by absolute correlation strength\n",
        "corr_df[\"Abs_Correlation\"] = np.abs(corr_df[\"Correlation\"])\n",
        "corr_df = corr_df.sort_values(\"Abs_Correlation\", ascending=True)\n",
        "\n",
        "\n",
        "\n",
        "# Function to analyze zero-value ratio in features\n",
        "def analyze_zeros(ehr_data, feature_cols, threshold=0.5):\n",
        "\n",
        "    all_zeros = []\n",
        "    for feature_name, feature_idx in zip(feature_cols, range(len(feature_cols))):\n",
        "        zeros_count = np.sum([np.sum(matrix[:, feature_idx] == 0) for matrix in ehr_data[\"feat_dict\"].values()])\n",
        "        total_values = sum([matrix.shape[0] for matrix in ehr_data[\"feat_dict\"].values()])\n",
        "        zero_ratio = zeros_count / total_values\n",
        "        if zero_ratio > threshold:\n",
        "            all_zeros.append((feature_name, zero_ratio))\n",
        "    return pd.DataFrame(all_zeros, columns=[\"Feature\", \"Zero_Ratio\"])\n",
        "\n",
        "# Analyze zero-value ratio for each feature category\n",
        "demo_zero_df = analyze_zeros(ehr_data, ehr_data[\"demo_cols\"])\n",
        "icd_zero_df = analyze_zeros(ehr_data, ehr_data[\"icd_cols\"])\n",
        "lab_zero_df = analyze_zeros(ehr_data, ehr_data[\"lab_cols\"])\n",
        "med_zero_df = analyze_zeros(ehr_data, ehr_data[\"med_cols\"])\n",
        "\n",
        "# Combine all zero-value data\n",
        "zero_df = pd.concat([demo_zero_df, icd_zero_df, lab_zero_df, med_zero_df])\n",
        "\n",
        "# Merge zero-value data with std and correlation data\n",
        "combined_df = pd.merge(pd.merge(std_df, corr_df, on='Feature'), zero_df, on='Feature', how='left')\n",
        "\n",
        "\n",
        "\n",
        "clinically_relevant = [\n",
        "    # Labs\n",
        "    'Creatinine Blood', 'Hemoglobin Blood', 'Hematocrit Blood',\n",
        "    'Potassium Blood', 'Sodium Blood', 'Glucose Blood',\n",
        "    'Troponin T Blood', 'Platelet Count Blood', 'Eosinophils Blood',\n",
        "    'pH Urine', 'pO2 Blood', 'pCO2 Blood', 'Anion Gap Blood',\n",
        "\n",
        "    # ICD-10\n",
        "    'I10-I16', 'N17-N19', 'J09-J18', 'E70-E88', 'I30-I52',\n",
        "    'J40-J47', 'B20-B20',\n",
        "\n",
        "    # Drugs\n",
        "    'ANTICOAGULANTS', 'ANTIBIOTICS', 'IMMUNOSUPPRESSANTS',\n",
        "    'ANTIINFLAM.TUMOR NECROSIS FACTOR INHIBITING AGENTS'\n",
        "]\n",
        "\n",
        "\n",
        "thresholds = {\n",
        "    'zero_ratio': {\n",
        "        'icd': 0.95,    # ICD codes often sparse\n",
        "        'med': 0.95,    # Medications often sparse\n",
        "        'lab': 0.95,    # Labs should rarely be zero\n",
        "        'demo': 0.9     # Demographics rarely zero\n",
        "    },\n",
        "    'std_dev': 0.01,    # Only for continuous features\n",
        "    'correlation': {\n",
        "        'min_abs_corr': 0.01,\n",
        "        'max_pvalue': 0.05\n",
        "    }\n",
        "}\n",
        "\n",
        "# Categorize features\n",
        "feature_types = {\n",
        "    'icd': ehr_data[\"icd_cols\"],\n",
        "    'med': ehr_data[\"med_cols\"],\n",
        "    'lab': ehr_data[\"lab_cols\"],\n",
        "    'demo': ehr_data[\"demo_cols\"]\n",
        "}\n",
        "\n",
        "# Initialize storage\n",
        "features_to_remove = []\n",
        "\n",
        "\n",
        "# Check each feature type separately\n",
        "for ftype, cols in feature_types.items():\n",
        "    for feature in cols:\n",
        "        row = combined_df[combined_df['Feature'] == feature].iloc[0]\n",
        "\n",
        "        # Skip binary features for variance check\n",
        "        check_variance = ftype not in ['icd']\n",
        "\n",
        "        # Apply type-specific rules\n",
        "        if (row['Zero_Ratio'] > thresholds['zero_ratio'][ftype]) and \\\n",
        "           (not check_variance or row['Std_Dev'] < thresholds['std_dev']) and \\\n",
        "           (np.abs(row['Correlation']) < thresholds['correlation']['min_abs_corr']) and \\\n",
        "           (row['P-value'] > thresholds['correlation']['max_pvalue']):\n",
        "            features_to_remove.append(feature)\n",
        "\n",
        "\n",
        "\n",
        "\n",
        "filtered_df = combined_df[~combined_df['Feature'].isin(clinically_relevant)]\n",
        "# Generate report\n",
        "removal_df = filtered_df[filtered_df['Feature'].isin(features_to_remove)].sort_values(\n",
        "    by=['Zero_Ratio', 'Std_Dev', 'Abs_Correlation'],\n",
        "    ascending=[False, True, True]\n",
        ")\n",
        "\n",
        "# Get indices of features to remove\n",
        "features_to_remove = removal_df['Feature'].tolist()\n",
        "all_features = ehr_data[\"feature_cols\"]\n",
        "remove_indices = [i for i, feature in enumerate(all_features)\n",
        "                 if feature in features_to_remove]\n",
        "\n",
        "#  Function to remove features\n",
        "def remove_features(X, remove_indices):\n",
        "    return np.delete(X, remove_indices, axis=1)\n",
        "\n",
        "#  Apply to both training and validation sets\n",
        "X_train_filtered = remove_features(X_train, remove_indices)\n",
        "X_val_filtered = remove_features(X_val, remove_indices)\n",
        "\n",
        "# 4. Get remaining feature names\n",
        "remaining_features = [f for i, f in enumerate(all_features)\n",
        "                     if i not in remove_indices]\n",
        "\n",
        "\n",
        "\n"
      ]
    },
    {
      "cell_type": "code",
      "execution_count": 16,
      "metadata": {
        "colab": {
          "base_uri": "https://localhost:8080/"
        },
        "id": "Rpql_98YS7WL",
        "outputId": "01365586-7b6d-4223-de4d-829fd9111fd4"
      },
      "outputs": [
        {
          "name": "stdout",
          "output_type": "stream",
          "text": [
            "\n",
            "Recommended features to remove (last) (44 total):\n",
            "                        Feature  Zero_Ratio   Std_Dev  Correlation   P-value\n",
            "54                      K65-K68    0.999950  0.015576    -0.008536  0.057676\n",
            "24                      R40-R46    0.999950  0.102142    -0.003603  0.423045\n",
            "8                       M80-M85    0.999909  0.007789    -0.004268  0.342633\n",
            "29                      B25-B34    0.999877  0.029816     0.004573  0.309156\n",
            "26                      N20-N23    0.999863  0.008993    -0.004928  0.273169\n",
            "73                      N60-N65    0.999831  0.025824     0.006283  0.162356\n",
            "47                      G89-G99    0.999813  0.182042     0.007699  0.086893\n",
            "44                      M50-M54    0.999786  0.000000     0.000000  1.000000\n",
            "111       Basophils Joint Fluid    0.999758  0.000000     0.000000  1.000000\n",
            "57                      B65-B83    0.999735  0.006359    -0.003484  0.438443\n",
            "80                      K40-K46    0.999667  0.000000     0.000000  1.000000\n",
            "93                      R90-R94    0.999653  0.000000     0.000000  1.000000\n",
            "39                      A20-A28    0.999640  0.000000     0.000000  1.000000\n",
            "101     Eosinophils Joint Fluid    0.999631  0.000000     0.000000  1.000000\n",
            "15                      H30-H36    0.999631  0.008993    -0.004928  0.273169\n",
            "10                      J90-J94    0.999631  0.203612    -0.003009  0.503484\n",
            "41                      E89-E89    0.999621  0.008993    -0.004928  0.273169\n",
            "70                      K00-K14    0.999553  0.010055    -0.005509  0.220519\n",
            "21                      N30-N39    0.999380  0.011014    -0.006035  0.179564\n",
            "17                      N00-N08    0.999270  0.000000     0.000000  1.000000\n",
            "65                      B50-B64    0.999083  0.038393     0.007682  0.087577\n",
            "66                      O60-O77    0.999042  0.000000     0.000000  1.000000\n",
            "58                      E40-E46    0.998996  0.216559    -0.000892  0.842838\n",
            "82                      Q00-Q07    0.998910  0.006359    -0.003484  0.438443\n",
            "127     Lymphocytes Joint Fluid    0.998860  0.000000     0.000000  1.000000\n",
            "32                      C73-C75    0.998837  0.006359    -0.003484  0.438443\n",
            "77                      M05-M14    0.998764  0.011897    -0.006519  0.147156\n",
            "98            Basophils Pleural    0.998714  0.000000     0.000000  1.000000\n",
            "7                       F40-F48    0.998714  0.006359    -0.003484  0.438443\n",
            "79                      B35-B49    0.998686  0.031782     0.008239  0.066943\n",
            "72                      J00-J06    0.998367  0.000000     0.000000  1.000000\n",
            "97   Basophils Other Body Fluid    0.998194  0.000000     0.000000  1.000000\n",
            "49                      J30-J39    0.997847  0.000000     0.000000  1.000000\n",
            "161          PRE-NATAL VITAMINS    0.997774  0.006359    -0.003484  0.438443\n",
            "114                     H Blood    0.997163  0.000000     0.000000  1.000000\n",
            "23                      F50-F59    0.997163  0.006359    -0.003484  0.438443\n",
            "89                      D3A-D3A    0.996880  0.010055    -0.005509  0.220519\n",
            "55                      R10-R19    0.996123  0.023360     0.007737  0.085331\n",
            "38                      M60-M63    0.996054  0.014913    -0.008172  0.069168\n",
            "74                      D37-D48    0.994549  0.038915    -0.002856  0.525432\n",
            "51                      Q65-Q79    0.989468  0.000000     0.000000  1.000000\n",
            "122           Basophils Ascites    0.980933  0.000000     0.000000  1.000000\n",
            "12                      E00-E07    0.973535  0.015576    -0.008536  0.057676\n",
            "50                      N25-N29    0.964631  0.000000     0.000000  1.000000\n",
            "Recommended removal features list:\n",
            "['K65-K68', 'R40-R46', 'M80-M85', 'B25-B34', 'N20-N23', 'N60-N65', 'G89-G99', 'M50-M54', 'Basophils Joint Fluid', 'B65-B83', 'K40-K46', 'R90-R94', 'A20-A28', 'Eosinophils Joint Fluid', 'H30-H36', 'J90-J94', 'E89-E89', 'K00-K14', 'N30-N39', 'N00-N08', 'B50-B64', 'O60-O77', 'E40-E46', 'Q00-Q07', 'Lymphocytes Joint Fluid', 'C73-C75', 'M05-M14', 'Basophils Pleural', 'F40-F48', 'B35-B49', 'J00-J06', 'Basophils Other Body Fluid', 'J30-J39', 'PRE-NATAL VITAMINS', 'H Blood', 'F50-F59', 'D3A-D3A', 'R10-R19', 'M60-M63', 'D37-D48', 'Q65-Q79', 'Basophils Ascites', 'E00-E07', 'N25-N29']\n"
          ]
        }
      ],
      "source": [
        "# print preprocessing result\n",
        "\n",
        "print(f\"\\nRecommended features to remove (last) ({len(removal_df)} total):\")\n",
        "print(removal_df[['Feature', 'Zero_Ratio', 'Std_Dev', 'Correlation', 'P-value']])\n",
        "print(\"Recommended removal features list:\")\n",
        "print(removal_df['Feature'].tolist())"
      ]
    },
    {
      "cell_type": "code",
      "execution_count": null,
      "metadata": {
        "colab": {
          "base_uri": "https://localhost:8080/"
        },
        "id": "qvemnWGMgoBH",
        "outputId": "87e5f2ef-0219-4e3d-beec-dd49bfba5c45"
      },
      "outputs": [
        {
          "data": {
            "text/plain": [
              "['scaler.pkl']"
            ]
          },
          "execution_count": 17,
          "metadata": {},
          "output_type": "execute_result"
        }
      ],
      "source": [
        "import pandas as pd\n",
        "import numpy as np\n",
        "from sklearn.svm import SVC\n",
        "from sklearn.metrics import accuracy_score, roc_auc_score, f1_score, classification_report\n",
        "from sklearn.preprocessing import StandardScaler\n",
        "from sklearn.model_selection import GridSearchCV\n",
        "import joblib\n",
        "\n",
        "#Scale features\n",
        "scaler = StandardScaler()\n",
        "X_train_scaled = scaler.fit_transform(X_train_filtered)\n",
        "X_val_scaled = scaler.transform(X_val_filtered)\n",
        "\n",
        "# Save scaler for test data\n",
        "joblib.dump(scaler, 'scaler.pkl')"
      ]
    },
    {
      "cell_type": "code",
      "execution_count": null,
      "metadata": {
        "colab": {
          "base_uri": "https://localhost:8080/"
        },
        "id": "lqYakDMPgsk0",
        "outputId": "64a64937-d400-4cd4-bc50-64d6617f492c"
      },
      "outputs": [
        {
          "name": "stdout",
          "output_type": "stream",
          "text": [
            "Validation Accuracy: 0.7935530171640452\n",
            "Validation AUC-ROC: 0.7181474651715123\n",
            "Validation F1-Score: 0.38576512455516015\n",
            "\n",
            "Classification Report:\n",
            "               precision    recall  f1-score   support\n",
            "\n",
            "       False       0.81      0.95      0.88     12800\n",
            "        True       0.64      0.28      0.39      3921\n",
            "\n",
            "    accuracy                           0.79     16721\n",
            "   macro avg       0.72      0.61      0.63     16721\n",
            "weighted avg       0.77      0.79      0.76     16721\n",
            "\n"
          ]
        }
      ],
      "source": [
        "# Train SVM \n",
        "svm_model = SVC(kernel='rbf', probability=True, random_state=42)\n",
        "svm_model.fit(X_train_scaled, y_train)\n",
        "\n",
        "# Predict\n",
        "y_val_pred = svm_model.predict(X_val_scaled)\n",
        "y_val_proba = svm_model.predict_proba(X_val_scaled)[:, 1]  # Probability of class 1\n",
        "\n",
        "# Evaluate the model\n",
        "print(\"Validation Accuracy:\", accuracy_score(y_val, y_val_pred))\n",
        "print(\"Validation AUC-ROC:\", roc_auc_score(y_val, y_val_proba))\n",
        "print(\"Validation F1-Score:\", f1_score(y_val, y_val_pred))\n",
        "print(\"\\nClassification Report:\\n\", classification_report(y_val, y_val_pred))"
      ]
    }
  ],
  "metadata": {
    "colab": {
      "provenance": []
    },
    "kernelspec": {
      "display_name": "Python (myenv)",
      "language": "python",
      "name": "myenv"
    },
    "language_info": {
      "codemirror_mode": {
        "name": "ipython",
        "version": 3
      },
      "file_extension": ".py",
      "mimetype": "text/x-python",
      "name": "python",
      "nbconvert_exporter": "python",
      "pygments_lexer": "ipython3",
      "version": "3.12.7"
    }
  },
  "nbformat": 4,
  "nbformat_minor": 0
}
