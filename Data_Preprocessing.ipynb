{
  "cells": [
    {
      "cell_type": "code",
      "execution_count": null,
      "metadata": {
        "id": "Lz5w7zz9vR0T"
      },
      "outputs": [],
      "source": [
        "import os\n",
        "import pandas as pd\n",
        "import numpy as np\n",
        "import seaborn as sns                       #visualisation\n",
        "import matplotlib.pyplot as plt             #visualisation\n",
        "%matplotlib inline\n",
        "sns.set(color_codes=True)"
      ]
    },
    {
      "cell_type": "code",
      "execution_count": null,
      "metadata": {
        "id": "3OZ5JQZWvR0T"
      },
      "outputs": [],
      "source": [
        "# TODO: change this to yours ...\n",
        "#DATA_DIR = \"/Users/kwongtszkong/Desktop/STAT3612 Statistical ML/Group Project/Stat3612_Project_datasource\"\n",
        "\n",
        "# read 3 csv files and 1 pkl file\n",
        "train_csv_file = os.path.join('/content', 'train.csv') # 使用绝对路径 '/content' 更明确\n",
        "val_csv_file = os.path.join('/content', 'valid.csv')\n",
        "test_csv_file = os.path.join('/content', 'test.csv')\n",
        "ehr_pkl_file = os.path.join('/content', 'ehr_preprocessed_seq_by_day_cat_embedding.pkl')\n",
        "\n",
        "train_df = pd.read_csv(train_csv_file)\n",
        "val_df = pd.read_csv(val_csv_file)\n",
        "test_df = pd.read_csv(test_csv_file)\n",
        "\n",
        "with open(ehr_pkl_file, 'rb') as f:\n",
        "    ehr_data = pd.read_pickle(f)"
      ]
    },
    {
      "cell_type": "code",
      "execution_count": null,
      "metadata": {
        "id": "ltssXGSFvR0U"
      },
      "outputs": [],
      "source": [
        "#Option1 : Aggregate features by mean over the days\n",
        "\n",
        "\n",
        "\n",
        "# Extract EHR features and IDs\n",
        "ehr_features = ehr_data[\"feat_dict\"]\n",
        "ehr_ids = list(ehr_features.keys())\n",
        "\n",
        "# Convert to DataFrame (each row is an admission)\n",
        "ehr_df = pd.DataFrame({\n",
        "    \"id\": ehr_ids,\n",
        "    \"ehr_matrix\": [ehr_features[id] for id in ehr_ids]\n",
        "})\n",
        "\n",
        "# Merge with labels from train/val/test DataFrames\n",
        "def merge_labels(df, ehr_df):\n",
        "    return df[[\"id\", \"readmitted_within_30days\"]].merge(ehr_df, on=\"id\", how=\"inner\")\n",
        "\n",
        "train_ehr = merge_labels(train_df, ehr_df)\n",
        "val_ehr = merge_labels(val_df, ehr_df)\n",
        "\n",
        "\n",
        "def aggregate_ehr(df):\n",
        "    # Aggregate features (example: mean over days)\n",
        "    df[\"ehr_mean\"] = df[\"ehr_matrix\"].apply(lambda x: np.mean(x, axis=0))\n",
        "\n",
        "    # Convert to numpy arrays\n",
        "    X = np.stack(df[\"ehr_mean\"].values)\n",
        "    y = df[\"readmitted_within_30days\"].astype(int).values\n",
        "\n",
        "    return X, y\n",
        "\n",
        "X_train, y_train = aggregate_ehr(train_ehr)\n",
        "X_val, y_val = aggregate_ehr(val_ehr)\n"
      ]
    },
    {
      "cell_type": "code",
      "execution_count": null,
      "metadata": {
        "colab": {
          "base_uri": "https://localhost:8080/",
          "height": 87
        },
        "id": "shV68po0vR0U",
        "outputId": "2fbf88fa-1f4d-4f88-ce7c-c4cb14085675"
      },
      "outputs": [
        {
          "output_type": "execute_result",
          "data": {
            "text/plain": [
              "'\\nX_train = []\\nfor idx, row in train_df.iterrows():\\n    X_train.append(ehr_data[\"feat_dict\"][row[\"id\"]][-1])\\nX_train = np.array(X_train)\\nprint(X_train.shape)\\nprint(\\'train_data:\\',X_train,\\'\\n\\')\\n\\nX_val = []\\nfor idx, row in val_df.iterrows():\\n    X_val.append(ehr_data[\"feat_dict\"][row[\"id\"]][-1])\\nX_val = np.array(X_val)\\nprint(X_val.shape)\\nprint(\\'validation_data:,\\',X_val,\\'\\n\\')\\n\\n\\n\\n\\ny_train = train_df[\\'readmitted_within_30days\\'].values\\ny_val = val_df[\\'readmitted_within_30days\\'].values\\n\\n'"
            ],
            "application/vnd.google.colaboratory.intrinsic+json": {
              "type": "string"
            }
          },
          "metadata": {},
          "execution_count": 7
        }
      ],
      "source": [
        "#Option 2 Aggregate features by last day\n",
        "\"\"\"\n",
        "X_train = []\n",
        "for idx, row in train_df.iterrows():\n",
        "    X_train.append(ehr_data[\"feat_dict\"][row[\"id\"]][-1])\n",
        "X_train = np.array(X_train)\n",
        "print(X_train.shape)\n",
        "print('train_data:',X_train,'\\n')\n",
        "\n",
        "X_val = []\n",
        "for idx, row in val_df.iterrows():\n",
        "    X_val.append(ehr_data[\"feat_dict\"][row[\"id\"]][-1])\n",
        "X_val = np.array(X_val)\n",
        "print(X_val.shape)\n",
        "print('validation_data:,',X_val,'\\n')\n",
        "\n",
        "\n",
        "\n",
        "\n",
        "y_train = train_df['readmitted_within_30days'].values\n",
        "y_val = val_df['readmitted_within_30days'].values\n",
        "\n",
        "\"\"\""
      ]
    },
    {
      "cell_type": "code",
      "execution_count": null,
      "metadata": {
        "colab": {
          "base_uri": "https://localhost:8080/"
        },
        "id": "DxjsmiTbvR0U",
        "outputId": "7183e757-9c9a-40ad-ed42-78a1781c443c"
      },
      "outputs": [
        {
          "output_type": "stream",
          "name": "stderr",
          "text": [
            "<ipython-input-8-16d80753e81d>:67: FutureWarning: The behavior of DataFrame concatenation with empty or all-NA entries is deprecated. In a future version, this will no longer exclude empty or all-NA columns when determining the result dtypes. To retain the old behavior, exclude the relevant entries before the concat operation.\n",
            "  zero_df = pd.concat([demo_zero_df, icd_zero_df, lab_zero_df, med_zero_df])\n"
          ]
        }
      ],
      "source": [
        "from scipy.stats import pointbiserialr\n",
        "# initialize storage for std_devs\n",
        "std_devs = np.std(X_train, axis=0)\n",
        "\n",
        "\n",
        "feature_names = ehr_data[\"feature_cols\"]\n",
        "\n",
        "# Create a DataFrame for analysis\n",
        "std_df = pd.DataFrame({\n",
        "    \"Feature\": feature_names,\n",
        "    \"Std_Dev\": std_devs\n",
        "})\n",
        "\n",
        "\n",
        "\n",
        "# Initialize storage\n",
        "correlations = []\n",
        "p_values = []\n",
        "\n",
        "\n",
        "# Calculate correlation for each feature\n",
        "for i in range(X_train.shape[1]):\n",
        "    if np.std(X_train[:, i]) == 0:  # Skip constant features\n",
        "        correlations.append(0)\n",
        "        p_values.append(1)\n",
        "    else:\n",
        "        corr, pval = pointbiserialr(X_train[:, i], y_train)\n",
        "        correlations.append(corr)\n",
        "        p_values.append(pval)\n",
        "\n",
        "\n",
        "\n",
        "# Create results DataFrame\n",
        "corr_df = pd.DataFrame({\n",
        "    \"Feature\": feature_names,\n",
        "    \"Correlation\": correlations,\n",
        "    \"P-value\": p_values\n",
        "})\n",
        "\n",
        "\n",
        "\n",
        "# Sort by absolute correlation strength\n",
        "corr_df[\"Abs_Correlation\"] = np.abs(corr_df[\"Correlation\"])\n",
        "corr_df = corr_df.sort_values(\"Abs_Correlation\", ascending=True)\n",
        "\n",
        "\n",
        "\n",
        "# Function to analyze zero-value ratio in features\n",
        "def analyze_zeros(ehr_data, feature_cols, threshold=0.5):\n",
        "\n",
        "    all_zeros = []\n",
        "    for feature_name, feature_idx in zip(feature_cols, range(len(feature_cols))):\n",
        "        zeros_count = np.sum([np.sum(matrix[:, feature_idx] == 0) for matrix in ehr_data[\"feat_dict\"].values()])\n",
        "        total_values = sum([matrix.shape[0] for matrix in ehr_data[\"feat_dict\"].values()])\n",
        "        zero_ratio = zeros_count / total_values\n",
        "        if zero_ratio > threshold:\n",
        "            all_zeros.append((feature_name, zero_ratio))\n",
        "    return pd.DataFrame(all_zeros, columns=[\"Feature\", \"Zero_Ratio\"])\n",
        "\n",
        "# Analyze zero-value ratio for each feature category\n",
        "demo_zero_df = analyze_zeros(ehr_data, ehr_data[\"demo_cols\"])\n",
        "icd_zero_df = analyze_zeros(ehr_data, ehr_data[\"icd_cols\"])\n",
        "lab_zero_df = analyze_zeros(ehr_data, ehr_data[\"lab_cols\"])\n",
        "med_zero_df = analyze_zeros(ehr_data, ehr_data[\"med_cols\"])\n",
        "\n",
        "# Combine all zero-value data\n",
        "zero_df = pd.concat([demo_zero_df, icd_zero_df, lab_zero_df, med_zero_df])\n",
        "\n",
        "# Merge zero-value data with std and correlation data\n",
        "combined_df = pd.merge(pd.merge(std_df, corr_df, on='Feature'), zero_df, on='Feature', how='left')\n",
        "\n",
        "\n",
        "\n",
        "clinically_relevant = [\n",
        "    # Labs\n",
        "    'Creatinine Blood', 'Hemoglobin Blood', 'Hematocrit Blood',\n",
        "    'Potassium Blood', 'Sodium Blood', 'Glucose Blood',\n",
        "    'Troponin T Blood', 'Platelet Count Blood', 'Eosinophils Blood',\n",
        "    'pH Urine', 'pO2 Blood', 'pCO2 Blood', 'Anion Gap Blood',\n",
        "\n",
        "    # ICD-10\n",
        "    'I10-I16', 'N17-N19', 'J09-J18', 'E70-E88', 'I30-I52',\n",
        "    'J40-J47', 'B20-B20',\n",
        "\n",
        "    # Drugs\n",
        "    'ANTICOAGULANTS', 'ANTIBIOTICS', 'IMMUNOSUPPRESSANTS',\n",
        "    'ANTIINFLAM.TUMOR NECROSIS FACTOR INHIBITING AGENTS'\n",
        "]\n",
        "\n",
        "\n",
        "thresholds = {\n",
        "    'zero_ratio': {\n",
        "        'icd': 0.95,    # ICD codes often sparse\n",
        "        'med': 0.95,    # Medications often sparse\n",
        "        'lab': 0.95,    # Labs should rarely be zero\n",
        "        'demo': 0.9     # Demographics rarely zero\n",
        "    },\n",
        "    'std_dev': 0.01,    # Only for continuous features\n",
        "    'correlation': {\n",
        "        'min_abs_corr': 0.01,\n",
        "        'max_pvalue': 0.05\n",
        "    }\n",
        "}\n",
        "\n",
        "# Categorize features\n",
        "feature_types = {\n",
        "    'icd': ehr_data[\"icd_cols\"],\n",
        "    'med': ehr_data[\"med_cols\"],\n",
        "    'lab': ehr_data[\"lab_cols\"],\n",
        "    'demo': ehr_data[\"demo_cols\"]\n",
        "}\n",
        "\n",
        "# Initialize storage\n",
        "features_to_remove = []\n",
        "\n",
        "\n",
        "# Check each feature type separately\n",
        "for ftype, cols in feature_types.items():\n",
        "    for feature in cols:\n",
        "        row = combined_df[combined_df['Feature'] == feature].iloc[0]\n",
        "\n",
        "        # Skip binary features for variance check\n",
        "        check_variance = ftype not in ['icd']\n",
        "\n",
        "        # Apply type-specific rules\n",
        "        if (row['Zero_Ratio'] > thresholds['zero_ratio'][ftype]) and \\\n",
        "           (not check_variance or row['Std_Dev'] < thresholds['std_dev']) and \\\n",
        "           (np.abs(row['Correlation']) < thresholds['correlation']['min_abs_corr']) and \\\n",
        "           (row['P-value'] > thresholds['correlation']['max_pvalue']):\n",
        "            features_to_remove.append(feature)\n",
        "\n",
        "\n",
        "\n",
        "\n",
        "filtered_df = combined_df[~combined_df['Feature'].isin(clinically_relevant)]\n",
        "# Generate report\n",
        "removal_df = filtered_df[filtered_df['Feature'].isin(features_to_remove)].sort_values(\n",
        "    by=['Zero_Ratio', 'Std_Dev', 'Abs_Correlation'],\n",
        "    ascending=[False, True, True]\n",
        ")\n",
        "\n",
        "# Get indices of features to remove\n",
        "features_to_remove = removal_df['Feature'].tolist()\n",
        "all_features = ehr_data[\"feature_cols\"]\n",
        "remove_indices = [i for i, feature in enumerate(all_features)\n",
        "                 if feature in features_to_remove]\n",
        "\n",
        "#  Function to remove features\n",
        "def remove_features(X, remove_indices):\n",
        "    return np.delete(X, remove_indices, axis=1)\n",
        "\n",
        "#  Apply to both training and validation sets\n",
        "X_train_filtered = remove_features(X_train, remove_indices)\n",
        "X_val_filtered = remove_features(X_val, remove_indices)\n",
        "\n",
        "# 4. Get remaining feature names\n",
        "remaining_features = [f for i, f in enumerate(all_features)\n",
        "                     if i not in remove_indices]\n",
        "\n",
        "\n",
        "\n"
      ]
    },
    {
      "cell_type": "code",
      "execution_count": null,
      "metadata": {
        "colab": {
          "base_uri": "https://localhost:8080/"
        },
        "id": "u21OFjzrvR0V",
        "outputId": "7c6d8dde-b73a-45eb-cfb6-1ed1cc64fbcd"
      },
      "outputs": [
        {
          "output_type": "stream",
          "name": "stdout",
          "text": [
            "\n",
            "Recommended features to remove (last) (39 total):\n",
            "                   Feature  Zero_Ratio   Std_Dev  Correlation   P-value\n",
            "54                 K65-K68    0.999950  0.015576    -0.008536  0.057676\n",
            "24                 R40-R46    0.999950  0.102142    -0.003603  0.423045\n",
            "8                  M80-M85    0.999909  0.007789    -0.004268  0.342633\n",
            "29                 B25-B34    0.999877  0.029816     0.004573  0.309156\n",
            "26                 N20-N23    0.999863  0.008993    -0.004928  0.273169\n",
            "73                 N60-N65    0.999831  0.025824     0.006283  0.162356\n",
            "47                 G89-G99    0.999813  0.182042     0.007699  0.086893\n",
            "44                 M50-M54    0.999786  0.000000     0.000000  1.000000\n",
            "111  Basophils Joint Fluid    0.999758  0.000000     0.000000  1.000000\n",
            "57                 B65-B83    0.999735  0.006359    -0.003484  0.438443\n",
            "80                 K40-K46    0.999667  0.000000     0.000000  1.000000\n",
            "93                 R90-R94    0.999653  0.000000     0.000000  1.000000\n",
            "39                 A20-A28    0.999640  0.000000     0.000000  1.000000\n",
            "15                 H30-H36    0.999631  0.008993    -0.004928  0.273169\n",
            "10                 J90-J94    0.999631  0.203612    -0.003009  0.503484\n",
            "41                 E89-E89    0.999621  0.008993    -0.004928  0.273169\n",
            "70                 K00-K14    0.999553  0.010055    -0.005509  0.220519\n",
            "21                 N30-N39    0.999380  0.011014    -0.006035  0.179564\n",
            "17                 N00-N08    0.999270  0.000000     0.000000  1.000000\n",
            "65                 B50-B64    0.999083  0.038393     0.007682  0.087577\n",
            "66                 O60-O77    0.999042  0.000000     0.000000  1.000000\n",
            "58                 E40-E46    0.998996  0.216559    -0.000892  0.842838\n",
            "82                 Q00-Q07    0.998910  0.006359    -0.003484  0.438443\n",
            "32                 C73-C75    0.998837  0.006359    -0.003484  0.438443\n",
            "77                 M05-M14    0.998764  0.011897    -0.006519  0.147156\n",
            "7                  F40-F48    0.998714  0.006359    -0.003484  0.438443\n",
            "79                 B35-B49    0.998686  0.031782     0.008239  0.066943\n",
            "72                 J00-J06    0.998367  0.000000     0.000000  1.000000\n",
            "49                 J30-J39    0.997847  0.000000     0.000000  1.000000\n",
            "161     PRE-NATAL VITAMINS    0.997774  0.006359    -0.003484  0.438443\n",
            "114                H Blood    0.997163  0.001124     0.004928  0.273169\n",
            "23                 F50-F59    0.997163  0.006359    -0.003484  0.438443\n",
            "89                 D3A-D3A    0.996880  0.010055    -0.005509  0.220519\n",
            "55                 R10-R19    0.996123  0.023360     0.007737  0.085331\n",
            "38                 M60-M63    0.996054  0.014913    -0.008172  0.069168\n",
            "74                 D37-D48    0.994549  0.038915    -0.002856  0.525432\n",
            "51                 Q65-Q79    0.989468  0.000000     0.000000  1.000000\n",
            "12                 E00-E07    0.973535  0.015576    -0.008536  0.057676\n",
            "50                 N25-N29    0.964631  0.000000     0.000000  1.000000\n",
            "Recommended removal features list:\n",
            "['K65-K68', 'R40-R46', 'M80-M85', 'B25-B34', 'N20-N23', 'N60-N65', 'G89-G99', 'M50-M54', 'Basophils Joint Fluid', 'B65-B83', 'K40-K46', 'R90-R94', 'A20-A28', 'H30-H36', 'J90-J94', 'E89-E89', 'K00-K14', 'N30-N39', 'N00-N08', 'B50-B64', 'O60-O77', 'E40-E46', 'Q00-Q07', 'C73-C75', 'M05-M14', 'F40-F48', 'B35-B49', 'J00-J06', 'J30-J39', 'PRE-NATAL VITAMINS', 'H Blood', 'F50-F59', 'D3A-D3A', 'R10-R19', 'M60-M63', 'D37-D48', 'Q65-Q79', 'E00-E07', 'N25-N29']\n"
          ]
        }
      ],
      "source": [
        "# print preprocessing result\n",
        "\n",
        "print(f\"\\nRecommended features to remove (last) ({len(removal_df)} total):\")\n",
        "print(removal_df[['Feature', 'Zero_Ratio', 'Std_Dev', 'Correlation', 'P-value']])\n",
        "print(\"Recommended removal features list:\")\n",
        "print(removal_df['Feature'].tolist())"
      ]
    },
    {
      "cell_type": "code",
      "source": [
        "SAVE_DIR = \"/content\"\n",
        "os.makedirs(SAVE_DIR, exist_ok=True)\n",
        "\n",
        "train_data = pd.DataFrame(X_train_filtered, columns=remaining_features)\n",
        "train_data[\"readmitted_within_30days\"] = y_train\n",
        "train_data.to_csv(os.path.join(SAVE_DIR, \"train_processed.csv\"), index=False)\n",
        "\n",
        "val_data = pd.DataFrame(X_val_filtered, columns=remaining_features)\n",
        "val_data[\"readmitted_within_30days\"] = y_val\n",
        "val_data.to_csv(os.path.join(SAVE_DIR, \"val_processed.csv\"), index=False)\n",
        "\n",
        "print(SAVE_DIR)"
      ],
      "metadata": {
        "colab": {
          "base_uri": "https://localhost:8080/"
        },
        "id": "nSOCNRmfygo3",
        "outputId": "087ea866-0c09-46e3-8c6c-7fb023ff9fd0"
      },
      "execution_count": null,
      "outputs": [
        {
          "output_type": "stream",
          "name": "stdout",
          "text": [
            "/content\n"
          ]
        }
      ]
    },
    {
      "cell_type": "code",
      "source": [
        "\n",
        "def merge_labels(df, ehr_df, is_test=False):\n",
        "    if is_test:\n",
        "        return df[[\"id\"]].merge(ehr_df, on=\"id\", how=\"inner\")\n",
        "    else:\n",
        "        return df[[\"id\", \"readmitted_within_30days\"]].merge(ehr_df, on=\"id\", how=\"inner\")\n",
        "\n",
        "test_ehr = merge_labels(test_df, ehr_df, is_test=True)\n",
        "\n",
        "def aggregate_ehr_test(df):\n",
        "    df[\"ehr_mean\"] = df[\"ehr_matrix\"].apply(lambda x: np.mean(x, axis=0))\n",
        "    X = np.stack(df[\"ehr_mean\"].values)\n",
        "    return X\n",
        "X_test = aggregate_ehr_test(test_ehr)\n",
        "X_test_filtered = remove_features(X_test, remove_indices)\n",
        "\n",
        "\n",
        "test_data = pd.DataFrame(X_test_filtered, columns=remaining_features)\n",
        "test_data.to_csv(os.path.join(SAVE_DIR, \"test_processed.csv\"), index=False)\n",
        "\n",
        "print(SAVE_DIR)"
      ],
      "metadata": {
        "colab": {
          "base_uri": "https://localhost:8080/"
        },
        "id": "_Q1FFMKo0a1M",
        "outputId": "1370c5c6-416e-48bf-da5e-2e99d41aa514"
      },
      "execution_count": null,
      "outputs": [
        {
          "output_type": "stream",
          "name": "stdout",
          "text": [
            "/content\n"
          ]
        }
      ]
    },
    {
      "cell_type": "code",
      "source": [
        "pip install optuna"
      ],
      "metadata": {
        "colab": {
          "base_uri": "https://localhost:8080/"
        },
        "id": "MtwH_Yj-3ZOt",
        "outputId": "9f033391-485f-4eb3-af5d-947f2b97f526"
      },
      "execution_count": null,
      "outputs": [
        {
          "output_type": "stream",
          "name": "stdout",
          "text": [
            "Collecting optuna\n",
            "  Downloading optuna-4.3.0-py3-none-any.whl.metadata (17 kB)\n",
            "Collecting alembic>=1.5.0 (from optuna)\n",
            "  Downloading alembic-1.15.2-py3-none-any.whl.metadata (7.3 kB)\n",
            "Collecting colorlog (from optuna)\n",
            "  Downloading colorlog-6.9.0-py3-none-any.whl.metadata (10 kB)\n",
            "Requirement already satisfied: numpy in /usr/local/lib/python3.11/dist-packages (from optuna) (2.0.2)\n",
            "Requirement already satisfied: packaging>=20.0 in /usr/local/lib/python3.11/dist-packages (from optuna) (24.2)\n",
            "Requirement already satisfied: sqlalchemy>=1.4.2 in /usr/local/lib/python3.11/dist-packages (from optuna) (2.0.40)\n",
            "Requirement already satisfied: tqdm in /usr/local/lib/python3.11/dist-packages (from optuna) (4.67.1)\n",
            "Requirement already satisfied: PyYAML in /usr/local/lib/python3.11/dist-packages (from optuna) (6.0.2)\n",
            "Requirement already satisfied: Mako in /usr/lib/python3/dist-packages (from alembic>=1.5.0->optuna) (1.1.3)\n",
            "Requirement already satisfied: typing-extensions>=4.12 in /usr/local/lib/python3.11/dist-packages (from alembic>=1.5.0->optuna) (4.13.2)\n",
            "Requirement already satisfied: greenlet>=1 in /usr/local/lib/python3.11/dist-packages (from sqlalchemy>=1.4.2->optuna) (3.2.0)\n",
            "Downloading optuna-4.3.0-py3-none-any.whl (386 kB)\n",
            "\u001b[2K   \u001b[90m━━━━━━━━━━━━━━━━━━━━━━━━━━━━━━━━━━━━━━━━\u001b[0m \u001b[32m386.6/386.6 kB\u001b[0m \u001b[31m13.1 MB/s\u001b[0m eta \u001b[36m0:00:00\u001b[0m\n",
            "\u001b[?25hDownloading alembic-1.15.2-py3-none-any.whl (231 kB)\n",
            "\u001b[2K   \u001b[90m━━━━━━━━━━━━━━━━━━━━━━━━━━━━━━━━━━━━━━━━\u001b[0m \u001b[32m231.9/231.9 kB\u001b[0m \u001b[31m15.6 MB/s\u001b[0m eta \u001b[36m0:00:00\u001b[0m\n",
            "\u001b[?25hDownloading colorlog-6.9.0-py3-none-any.whl (11 kB)\n",
            "Installing collected packages: colorlog, alembic, optuna\n",
            "Successfully installed alembic-1.15.2 colorlog-6.9.0 optuna-4.3.0\n"
          ]
        }
      ]
    },
    {
      "cell_type": "code",
      "source": [
        "import numpy as np\n",
        "import pandas as pd\n",
        "from sklearn.neighbors import KNeighborsClassifier\n",
        "from sklearn.preprocessing import StandardScaler\n",
        "from sklearn.metrics import roc_auc_score, roc_curve, auc\n",
        "from sklearn.model_selection import train_test_split\n",
        "import optuna\n",
        "\n",
        "train_data = pd.read_csv(\"train_processed.csv\")\n",
        "val_data = pd.read_csv(\"val_processed.csv\")\n",
        "\n",
        "X_train = train_data.drop(\"readmitted_within_30days\", axis=1)\n",
        "y_train = train_data[\"readmitted_within_30days\"]\n",
        "X_val = val_data.drop(\"readmitted_within_30days\", axis=1)\n",
        "y_val = val_data[\"readmitted_within_30days\"]\n",
        "\n",
        "scaler = StandardScaler()\n",
        "X_train_scaled = scaler.fit_transform(X_train)\n",
        "X_val_scaled = scaler.transform(X_val)\n",
        "\n",
        "def objective(trial):\n",
        "    params = {\n",
        "        'n_neighbors': trial.suggest_categorical('n_neighbors', [3,5,7,9,11,13,15]),\n",
        "        'weights': trial.suggest_categorical(\"weights\", [\"uniform\", \"distance\"]),\n",
        "        'algorithm': trial.suggest_categorical(\"algorithm\", [\"auto\", \"ball_tree\", \"kd_tree\"])\n",
        "    }\n",
        "\n",
        "    model = KNeighborsClassifier(**params)\n",
        "    model.fit(X_train_scaled, y_train)\n",
        "\n",
        "    y_proba = model.predict_proba(X_val_scaled)[:, 1]\n",
        "    auc_score = roc_auc_score(y_val, y_proba)\n",
        "    return auc_score\n",
        "\n",
        "study = optuna.create_study(direction='maximize')\n",
        "study.optimize(objective, n_trials=50)\n",
        "\n",
        "print(\"Best parameters:\", study.best_params)\n",
        "print(\"Best AUC:\", study.best_value)\n",
        "\n",
        "best_model = KNeighborsClassifier(**study.best_params)\n",
        "best_model.fit(X_train_scaled, y_train)\n",
        "\n",
        "y_val_pred = best_model.predict_proba(X_val_scaled)[:, 1]\n",
        "final_auc = roc_auc_score(y_val, y_val_pred)\n",
        "print(f\"Final model validation set AUC: {final_auc:.4f}\")\n"
      ],
      "metadata": {
        "colab": {
          "base_uri": "https://localhost:8080/"
        },
        "id": "mT4TS1Sv2GP-",
        "outputId": "dc90d4f2-e7bd-41cb-cb2b-f27d52b0c4dd"
      },
      "execution_count": null,
      "outputs": [
        {
          "output_type": "stream",
          "name": "stderr",
          "text": [
            "[I 2025-04-23 13:37:05,551] A new study created in memory with name: no-name-cab1198b-127f-40c4-b661-523d6712b387\n",
            "[I 2025-04-23 13:41:04,872] Trial 0 finished with value: 0.5527565014505229 and parameters: {'n_neighbors': 13, 'weights': 'uniform', 'algorithm': 'ball_tree'}. Best is trial 0 with value: 0.5527565014505229.\n",
            "[I 2025-04-23 13:45:02,335] Trial 1 finished with value: 0.5550341809327978 and parameters: {'n_neighbors': 9, 'weights': 'distance', 'algorithm': 'ball_tree'}. Best is trial 1 with value: 0.5550341809327978.\n",
            "[I 2025-04-23 13:48:45,440] Trial 2 finished with value: 0.5524337401970162 and parameters: {'n_neighbors': 13, 'weights': 'distance', 'algorithm': 'kd_tree'}. Best is trial 1 with value: 0.5550341809327978.\n",
            "[I 2025-04-23 13:48:58,049] Trial 3 finished with value: 0.5555016955974241 and parameters: {'n_neighbors': 9, 'weights': 'uniform', 'algorithm': 'auto'}. Best is trial 3 with value: 0.5555016955974241.\n",
            "[I 2025-04-23 13:49:10,520] Trial 4 finished with value: 0.5555016955974241 and parameters: {'n_neighbors': 9, 'weights': 'uniform', 'algorithm': 'auto'}. Best is trial 3 with value: 0.5555016955974241.\n",
            "[I 2025-04-23 13:52:45,439] Trial 5 finished with value: 0.543916341893012 and parameters: {'n_neighbors': 3, 'weights': 'uniform', 'algorithm': 'kd_tree'}. Best is trial 3 with value: 0.5555016955974241.\n",
            "[I 2025-04-23 13:52:58,220] Trial 6 finished with value: 0.5550341809327978 and parameters: {'n_neighbors': 9, 'weights': 'distance', 'algorithm': 'auto'}. Best is trial 3 with value: 0.5555016955974241.\n",
            "[I 2025-04-23 13:56:48,832] Trial 7 finished with value: 0.5524337401970162 and parameters: {'n_neighbors': 13, 'weights': 'distance', 'algorithm': 'ball_tree'}. Best is trial 3 with value: 0.5555016955974241.\n",
            "[I 2025-04-23 14:00:29,828] Trial 8 finished with value: 0.5420952084927314 and parameters: {'n_neighbors': 5, 'weights': 'uniform', 'algorithm': 'kd_tree'}. Best is trial 3 with value: 0.5555016955974241.\n",
            "[I 2025-04-23 14:00:42,699] Trial 9 finished with value: 0.549099779233614 and parameters: {'n_neighbors': 7, 'weights': 'uniform', 'algorithm': 'auto'}. Best is trial 3 with value: 0.5555016955974241.\n",
            "[I 2025-04-23 14:00:56,640] Trial 10 finished with value: 0.5568971164881408 and parameters: {'n_neighbors': 15, 'weights': 'uniform', 'algorithm': 'auto'}. Best is trial 10 with value: 0.5568971164881408.\n",
            "[I 2025-04-23 14:01:09,385] Trial 11 finished with value: 0.5568971164881408 and parameters: {'n_neighbors': 15, 'weights': 'uniform', 'algorithm': 'auto'}. Best is trial 10 with value: 0.5568971164881408.\n",
            "[I 2025-04-23 14:01:22,149] Trial 12 finished with value: 0.5568971164881408 and parameters: {'n_neighbors': 15, 'weights': 'uniform', 'algorithm': 'auto'}. Best is trial 10 with value: 0.5568971164881408.\n",
            "[I 2025-04-23 14:01:34,925] Trial 13 finished with value: 0.5568971164881408 and parameters: {'n_neighbors': 15, 'weights': 'uniform', 'algorithm': 'auto'}. Best is trial 10 with value: 0.5568971164881408.\n",
            "[I 2025-04-23 14:01:47,613] Trial 14 finished with value: 0.5568971164881408 and parameters: {'n_neighbors': 15, 'weights': 'uniform', 'algorithm': 'auto'}. Best is trial 10 with value: 0.5568971164881408.\n",
            "[I 2025-04-23 14:02:00,237] Trial 15 finished with value: 0.5535934312037746 and parameters: {'n_neighbors': 11, 'weights': 'uniform', 'algorithm': 'auto'}. Best is trial 10 with value: 0.5568971164881408.\n",
            "[I 2025-04-23 14:02:12,755] Trial 16 finished with value: 0.5568971164881408 and parameters: {'n_neighbors': 15, 'weights': 'uniform', 'algorithm': 'auto'}. Best is trial 10 with value: 0.5568971164881408.\n",
            "[I 2025-04-23 14:02:25,432] Trial 17 finished with value: 0.5568971164881408 and parameters: {'n_neighbors': 15, 'weights': 'uniform', 'algorithm': 'auto'}. Best is trial 10 with value: 0.5568971164881408.\n",
            "[I 2025-04-23 14:06:07,472] Trial 18 finished with value: 0.5533228927569498 and parameters: {'n_neighbors': 11, 'weights': 'distance', 'algorithm': 'kd_tree'}. Best is trial 10 with value: 0.5568971164881408.\n",
            "[I 2025-04-23 14:09:45,778] Trial 19 finished with value: 0.543916341893012 and parameters: {'n_neighbors': 3, 'weights': 'uniform', 'algorithm': 'ball_tree'}. Best is trial 10 with value: 0.5568971164881408.\n",
            "[I 2025-04-23 14:09:58,677] Trial 20 finished with value: 0.5420952084927314 and parameters: {'n_neighbors': 5, 'weights': 'uniform', 'algorithm': 'auto'}. Best is trial 10 with value: 0.5568971164881408.\n",
            "[I 2025-04-23 14:10:11,549] Trial 21 finished with value: 0.5568971164881408 and parameters: {'n_neighbors': 15, 'weights': 'uniform', 'algorithm': 'auto'}. Best is trial 10 with value: 0.5568971164881408.\n",
            "[I 2025-04-23 14:10:24,362] Trial 22 finished with value: 0.5568971164881408 and parameters: {'n_neighbors': 15, 'weights': 'uniform', 'algorithm': 'auto'}. Best is trial 10 with value: 0.5568971164881408.\n",
            "[I 2025-04-23 14:10:37,227] Trial 23 finished with value: 0.5568971164881408 and parameters: {'n_neighbors': 15, 'weights': 'uniform', 'algorithm': 'auto'}. Best is trial 10 with value: 0.5568971164881408.\n",
            "[I 2025-04-23 14:10:49,982] Trial 24 finished with value: 0.549099779233614 and parameters: {'n_neighbors': 7, 'weights': 'uniform', 'algorithm': 'auto'}. Best is trial 10 with value: 0.5568971164881408.\n",
            "[I 2025-04-23 14:11:02,877] Trial 25 finished with value: 0.5568971164881408 and parameters: {'n_neighbors': 15, 'weights': 'uniform', 'algorithm': 'auto'}. Best is trial 10 with value: 0.5568971164881408.\n",
            "[I 2025-04-23 14:11:15,608] Trial 26 finished with value: 0.5566450682223922 and parameters: {'n_neighbors': 15, 'weights': 'distance', 'algorithm': 'auto'}. Best is trial 10 with value: 0.5568971164881408.\n",
            "[I 2025-04-23 14:11:28,408] Trial 27 finished with value: 0.5568971164881408 and parameters: {'n_neighbors': 15, 'weights': 'uniform', 'algorithm': 'auto'}. Best is trial 10 with value: 0.5568971164881408.\n",
            "[I 2025-04-23 14:15:09,069] Trial 28 finished with value: 0.5568971164881408 and parameters: {'n_neighbors': 15, 'weights': 'uniform', 'algorithm': 'ball_tree'}. Best is trial 10 with value: 0.5568971164881408.\n",
            "[I 2025-04-23 14:18:52,008] Trial 29 finished with value: 0.549099779233614 and parameters: {'n_neighbors': 7, 'weights': 'uniform', 'algorithm': 'kd_tree'}. Best is trial 10 with value: 0.5568971164881408.\n",
            "[I 2025-04-23 14:22:30,145] Trial 30 finished with value: 0.543916341893012 and parameters: {'n_neighbors': 3, 'weights': 'uniform', 'algorithm': 'ball_tree'}. Best is trial 10 with value: 0.5568971164881408.\n",
            "[I 2025-04-23 14:22:42,678] Trial 31 finished with value: 0.5568971164881408 and parameters: {'n_neighbors': 15, 'weights': 'uniform', 'algorithm': 'auto'}. Best is trial 10 with value: 0.5568971164881408.\n",
            "[I 2025-04-23 14:22:55,398] Trial 32 finished with value: 0.5568971164881408 and parameters: {'n_neighbors': 15, 'weights': 'uniform', 'algorithm': 'auto'}. Best is trial 10 with value: 0.5568971164881408.\n",
            "[I 2025-04-23 14:23:08,014] Trial 33 finished with value: 0.5527565014505229 and parameters: {'n_neighbors': 13, 'weights': 'uniform', 'algorithm': 'auto'}. Best is trial 10 with value: 0.5568971164881408.\n",
            "[I 2025-04-23 14:23:20,402] Trial 34 finished with value: 0.5566450682223922 and parameters: {'n_neighbors': 15, 'weights': 'distance', 'algorithm': 'auto'}. Best is trial 10 with value: 0.5568971164881408.\n",
            "[I 2025-04-23 14:23:32,943] Trial 35 finished with value: 0.5420952084927314 and parameters: {'n_neighbors': 5, 'weights': 'uniform', 'algorithm': 'auto'}. Best is trial 10 with value: 0.5568971164881408.\n",
            "[I 2025-04-23 14:23:45,620] Trial 36 finished with value: 0.5535934312037746 and parameters: {'n_neighbors': 11, 'weights': 'uniform', 'algorithm': 'auto'}. Best is trial 10 with value: 0.5568971164881408.\n",
            "[I 2025-04-23 14:27:33,996] Trial 37 finished with value: 0.5550341809327978 and parameters: {'n_neighbors': 9, 'weights': 'distance', 'algorithm': 'kd_tree'}. Best is trial 10 with value: 0.5568971164881408.\n",
            "[I 2025-04-23 14:31:16,907] Trial 38 finished with value: 0.5568971164881408 and parameters: {'n_neighbors': 15, 'weights': 'uniform', 'algorithm': 'ball_tree'}. Best is trial 10 with value: 0.5568971164881408.\n",
            "[I 2025-04-23 14:31:29,659] Trial 39 finished with value: 0.5527565014505229 and parameters: {'n_neighbors': 13, 'weights': 'uniform', 'algorithm': 'auto'}. Best is trial 10 with value: 0.5568971164881408.\n",
            "[I 2025-04-23 14:31:42,500] Trial 40 finished with value: 0.5566450682223922 and parameters: {'n_neighbors': 15, 'weights': 'distance', 'algorithm': 'auto'}. Best is trial 10 with value: 0.5568971164881408.\n",
            "[I 2025-04-23 14:31:55,147] Trial 41 finished with value: 0.5568971164881408 and parameters: {'n_neighbors': 15, 'weights': 'uniform', 'algorithm': 'auto'}. Best is trial 10 with value: 0.5568971164881408.\n",
            "[I 2025-04-23 14:32:07,862] Trial 42 finished with value: 0.5568971164881408 and parameters: {'n_neighbors': 15, 'weights': 'uniform', 'algorithm': 'auto'}. Best is trial 10 with value: 0.5568971164881408.\n",
            "[I 2025-04-23 14:32:20,471] Trial 43 finished with value: 0.5568971164881408 and parameters: {'n_neighbors': 15, 'weights': 'uniform', 'algorithm': 'auto'}. Best is trial 10 with value: 0.5568971164881408.\n",
            "[I 2025-04-23 14:32:33,163] Trial 44 finished with value: 0.5555016955974241 and parameters: {'n_neighbors': 9, 'weights': 'uniform', 'algorithm': 'auto'}. Best is trial 10 with value: 0.5568971164881408.\n",
            "[I 2025-04-23 14:36:21,787] Trial 45 finished with value: 0.5568971164881408 and parameters: {'n_neighbors': 15, 'weights': 'uniform', 'algorithm': 'kd_tree'}. Best is trial 10 with value: 0.5568971164881408.\n",
            "[I 2025-04-23 14:36:34,242] Trial 46 finished with value: 0.543916341893012 and parameters: {'n_neighbors': 3, 'weights': 'uniform', 'algorithm': 'auto'}. Best is trial 10 with value: 0.5568971164881408.\n",
            "[I 2025-04-23 14:36:46,694] Trial 47 finished with value: 0.5535934312037746 and parameters: {'n_neighbors': 11, 'weights': 'uniform', 'algorithm': 'auto'}. Best is trial 10 with value: 0.5568971164881408.\n",
            "[I 2025-04-23 14:40:34,264] Trial 48 finished with value: 0.5420952084927314 and parameters: {'n_neighbors': 5, 'weights': 'uniform', 'algorithm': 'ball_tree'}. Best is trial 10 with value: 0.5568971164881408.\n",
            "[I 2025-04-23 14:40:46,955] Trial 49 finished with value: 0.5566450682223922 and parameters: {'n_neighbors': 15, 'weights': 'distance', 'algorithm': 'auto'}. Best is trial 10 with value: 0.5568971164881408.\n"
          ]
        },
        {
          "output_type": "stream",
          "name": "stdout",
          "text": [
            "Best parameters: {'n_neighbors': 15, 'weights': 'uniform', 'algorithm': 'auto'}\n",
            "Best AUC: 0.5568971164881408\n",
            "Final model validation set AUC: 0.5569\n"
          ]
        }
      ]
    },
    {
      "cell_type": "code",
      "source": [
        "import matplotlib.pyplot as plt\n",
        "from sklearn.metrics import roc_curve, auc, roc_auc_score\n",
        "\n",
        "y_train_proba = best_model.predict_proba(X_train_scaled)[:, 1]\n",
        "\n",
        "fpr_train, tpr_train, thresholds_train = roc_curve(y_train, y_train_proba)\n",
        "\n",
        "auc_train = roc_auc_score(y_train, y_train_proba)\n",
        "\n",
        "plt.figure(figsize=(8, 6))\n",
        "plt.plot(fpr_train, tpr_train, color='darkorange', lw=2, label=f'ROC curve (AUC = {auc_train:.4f})')\n",
        "plt.plot([0, 1], [0, 1], color='navy', lw=2, linestyle='--', label='Random Classifier')\n",
        "\n",
        "plt.xlim([0.0, 1.0])\n",
        "plt.ylim([0.0, 1.05])\n",
        "plt.xlabel('False Positive Rate (FPR)')\n",
        "plt.ylabel('True Positive Rate (TPR)')\n",
        "plt.title('Classifier ROC Curve on Training Set')\n",
        "plt.legend(loc=\"lower right\")\n",
        "plt.grid(True)\n",
        "plt.show()\n",
        "\n",
        "print(f\"Training Set AUC: {auc_train:.4f}\")\n"
      ],
      "metadata": {
        "colab": {
          "base_uri": "https://localhost:8080/",
          "height": 590
        },
        "id": "OqnysnZRHBJ-",
        "outputId": "afe9f294-ae24-433d-febc-c1b45626e9d8"
      },
      "execution_count": null,
      "outputs": [
        {
          "output_type": "display_data",
          "data": {
            "text/plain": [
              "<Figure size 800x600 with 1 Axes>"
            ],
            "image/png": "[encoded data removed]"
          },
          "metadata": {}
        },
        {
          "output_type": "stream",
          "name": "stdout",
          "text": [
            "Training Set AUC: 0.9855\n"
          ]
        }
      ]
    }
  ],
  "metadata": {
    "colab": {
      "provenance": []
    },
    "kernelspec": {
      "display_name": "Python (myenv)",
      "language": "python",
      "name": "myenv"
    },
    "language_info": {
      "codemirror_mode": {
        "name": "ipython",
        "version": 3
      },
      "file_extension": ".py",
      "mimetype": "text/x-python",
      "name": "python",
      "nbconvert_exporter": "python",
      "pygments_lexer": "ipython3",
      "version": "3.12.7"
    }
  },
  "nbformat": 4,
  "nbformat_minor": 0
}