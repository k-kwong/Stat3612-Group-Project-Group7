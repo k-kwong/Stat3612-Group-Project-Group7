{
  "nbformat": 4,
  "nbformat_minor": 0,
  "metadata": {
    "colab": {
      "provenance": []
    },
    "kernelspec": {
      "name": "python3",
      "display_name": "Python 3"
    },
    "language_info": {
      "name": "python"
    }
  },
  "cells": [
    {
      "cell_type": "code",
      "source": [
        "import os\n",
        "import pandas as pd\n",
        "import numpy as np\n",
        "import seaborn as sns\n",
        "import matplotlib.pyplot as plt\n",
        "%matplotlib inline\n",
        "sns.set(color_codes=True)\n",
        "\n",
        "# Data directory setup\n",
        "DATA_DIR = \"/content/\"\n",
        "\n",
        "# File paths\n",
        "train_csv_file = os.path.join(DATA_DIR, \"train.csv\")\n",
        "val_csv_file = os.path.join(DATA_DIR, \"valid.csv\")\n",
        "test_csv_file = os.path.join(DATA_DIR, \"test.csv\")\n",
        "ehr_pkl_file = os.path.join(DATA_DIR, \"ehr_preprocessed_seq_by_day_cat_embedding.pkl\")\n",
        "\n",
        "# Load data\n",
        "train_df = pd.read_csv(train_csv_file)\n",
        "val_df = pd.read_csv(val_csv_file)\n",
        "test_df = pd.read_csv(test_csv_file)\n",
        "\n",
        "with open(ehr_pkl_file, 'rb') as f:\n",
        "    ehr_data = pd.read_pickle(f)\n"
      ],
      "metadata": {
        "id": "s3ZTLVYYUUMY"
      },
      "execution_count": 20,
      "outputs": []
    },
    {
      "cell_type": "code",
      "source": [
        "def aggregate_admission_data(df, ehr_dict, aggregation, has_labels=True):\n",
        "    \"\"\"Aggregate features per admission with optional labels\"\"\"\n",
        "    admission_ids = df['id'].unique()\n",
        "    X = []\n",
        "    y = [] if has_labels else None\n",
        "\n",
        "    for adm_id in admission_ids:\n",
        "        adm_rows = df[df['id'] == adm_id]\n",
        "        adm_features = ehr_dict[adm_id]\n",
        "\n",
        "        if aggregation == 'last':\n",
        "            features = adm_features[-1]\n",
        "        elif aggregation == 'mean':\n",
        "            features = np.mean(adm_features, axis=0)\n",
        "        elif aggregation == 'max':\n",
        "            features = np.max(adm_features, axis=0)\n",
        "        else:\n",
        "            raise ValueError(\"Invalid aggregation method\")\n",
        "\n",
        "        X.append(features)\n",
        "\n",
        "        if has_labels:\n",
        "            y.append(adm_rows['readmitted_within_30days'].iloc[0])\n",
        "\n",
        "    return np.array(X), (np.array(y) if has_labels else None)\n"
      ],
      "metadata": {
        "id": "eHiTSTAgVErC"
      },
      "execution_count": 21,
      "outputs": []
    },
    {
      "cell_type": "code",
      "source": [
        "# Process data for each aggregation method\n",
        "# Last day aggregation\n",
        "X_train_last, y_train_last = aggregate_admission_data(train_df, ehr_data[\"feat_dict\"], 'last')\n",
        "X_val_last, y_val_last = aggregate_admission_data(val_df, ehr_data[\"feat_dict\"], 'last')\n",
        "X_test_last = aggregate_admission_data(test_df, ehr_data[\"feat_dict\"], 'last', has_labels=False)[0]\n",
        "\n",
        "# Mean aggregation\n",
        "X_train_mean, y_train_mean = aggregate_admission_data(train_df, ehr_data[\"feat_dict\"], 'mean')\n",
        "X_val_mean, y_val_mean = aggregate_admission_data(val_df, ehr_data[\"feat_dict\"], 'mean')\n",
        "X_test_mean = aggregate_admission_data(test_df, ehr_data[\"feat_dict\"], 'mean', has_labels=False)[0]\n",
        "\n",
        "# Max aggregation\n",
        "X_train_max, y_train_max = aggregate_admission_data(train_df, ehr_data[\"feat_dict\"], 'max')\n",
        "X_val_max, y_val_max = aggregate_admission_data(val_df, ehr_data[\"feat_dict\"], 'max')\n",
        "X_test_max = aggregate_admission_data(test_df, ehr_data[\"feat_dict\"], 'max', has_labels=False)[0]\n",
        "\n",
        "print(f\"Last Day - Train: {X_train_last.shape}, Val: {X_val_last.shape}, Test: {X_test_last.shape}\")\n",
        "print(f\"Mean - Train: {X_train_mean.shape}, Val: {X_val_mean.shape}, Test: {X_test_mean.shape}\")\n",
        "print(f\"Max - Train: {X_train_max.shape}, Val: {X_val_max.shape}, Test: {X_test_max.shape}\")\n"
      ],
      "metadata": {
        "colab": {
          "base_uri": "https://localhost:8080/"
        },
        "id": "EzfvuaVUVJFl",
        "outputId": "183a10dc-668c-4b67-ad8a-2f3abe3e15f2"
      },
      "execution_count": 22,
      "outputs": [
        {
          "output_type": "stream",
          "name": "stdout",
          "text": [
            "Last Day - Train: (8234, 171), Val: (2788, 171), Test: (2741, 171)\n",
            "Mean - Train: (8234, 171), Val: (2788, 171), Test: (2741, 171)\n",
            "Max - Train: (8234, 171), Val: (2788, 171), Test: (2741, 171)\n"
          ]
        }
      ]
    },
    {
      "cell_type": "code",
      "source": [
        "# Define clinically relevant features\n",
        "clinically_relevant = [\n",
        "    # Labs\n",
        "    'Creatinine Blood', 'Hemoglobin Blood', 'Hematocrit Blood',\n",
        "    'Potassium Blood', 'Sodium Blood', 'Glucose Blood',\n",
        "    'Troponin T Blood', 'Platelet Count Blood', 'Eosinophils Blood',\n",
        "    'pH Urine', 'pO2 Blood', 'pCO2 Blood', 'Anion Gap Blood',\n",
        "\n",
        "    # ICD-10\n",
        "    'I10-I16', 'N17-N19', 'J09-J18', 'E70-E88', 'I30-I52',\n",
        "    'J40-J47', 'B20-B20',\n",
        "\n",
        "    # Drugs\n",
        "    'ANTICOAGULANTS', 'ANTIBIOTICS', 'IMMUNOSUPPRESSANTS',\n",
        "    'ANTIINFLAM.TUMOR NECROSIS FACTOR INHIBITING AGENTS'\n",
        "]\n"
      ],
      "metadata": {
        "id": "0lkLMEoIVXd6"
      },
      "execution_count": 23,
      "outputs": []
    },
    {
      "cell_type": "code",
      "source": [
        "# Import libraries for feature analysis\n",
        "from scipy.stats import pointbiserialr, chi2_contingency\n",
        "from sklearn.feature_selection import mutual_info_classif\n",
        "from sklearn.preprocessing import StandardScaler\n",
        "\n",
        "def analyze_zeros(ehr_data, feature_cols, threshold=0.5):\n",
        "    \"\"\"Analyze zero-value ratio in features\"\"\"\n",
        "    all_zeros = []\n",
        "    for feature_name, feature_idx in zip(feature_cols, range(len(feature_cols))):\n",
        "        zeros_count = np.sum([np.sum(matrix[:, feature_idx] == 0) for matrix in ehr_data[\"feat_dict\"].values()])\n",
        "        total_values = sum([matrix.shape[0] for matrix in ehr_data[\"feat_dict\"].values()])\n",
        "        zero_ratio = zeros_count / total_values\n",
        "        if zero_ratio > threshold:\n",
        "            all_zeros.append((feature_name, zero_ratio))\n",
        "    return pd.DataFrame(all_zeros, columns=[\"Feature\", \"Zero_Ratio\"])\n"
      ],
      "metadata": {
        "id": "ef9zt6SmV6Fu"
      },
      "execution_count": 24,
      "outputs": []
    },
    {
      "cell_type": "code",
      "source": [
        "def compute_feature_associations(X, y, feature_names, ehr_data):\n",
        "    \"\"\"Compute statistical associations between features and target\"\"\"\n",
        "    correlations = []\n",
        "    p_values = []\n",
        "\n",
        "    for i in range(X.shape[1]):\n",
        "        if np.std(X[:, i]) == 0:\n",
        "            correlations.append(0)\n",
        "            p_values.append(1)\n",
        "            continue\n",
        "\n",
        "        if feature_names[i] in ehr_data[\"icd_cols\"]:\n",
        "            # Chi-squared for ICD features\n",
        "            contingency = pd.crosstab(X[:, i], y)\n",
        "            try:\n",
        "                chi2, pval, _, _ = chi2_contingency(contingency)\n",
        "                correlations.append(chi2)\n",
        "                p_values.append(pval)\n",
        "            except:\n",
        "                correlations.append(0)\n",
        "                p_values.append(1)\n",
        "        else:\n",
        "            # Point-biserial for continuous features\n",
        "            corr, pval = pointbiserialr(X[:, i], y)\n",
        "            correlations.append(corr)\n",
        "            p_values.append(pval)\n",
        "\n",
        "    return pd.DataFrame({\n",
        "        'Feature': feature_names,\n",
        "        'Association': correlations,\n",
        "        'P-value': p_values\n",
        "    })\n"
      ],
      "metadata": {
        "id": "Q9Zv9EeAV9st"
      },
      "execution_count": 25,
      "outputs": []
    },
    {
      "cell_type": "code",
      "source": [
        "def find_collinear_features(X, feature_names, threshold=0.8):\n",
        "    \"\"\"Identify feature pairs with correlation > threshold\"\"\"\n",
        "    corr_matrix = pd.DataFrame(X).corr().abs()\n",
        "    upper = corr_matrix.where(np.triu(np.ones(corr_matrix.shape), k=1).astype(bool))\n",
        "    collinear_pairs = [(feature_names[i], feature_names[j], corr_matrix.iloc[i,j])\n",
        "                      for i,j in zip(*np.where(upper > threshold))]\n",
        "    return pd.DataFrame(collinear_pairs, columns=['Feature1', 'Feature2', 'Correlation'])\n",
        "\n",
        "def select_non_collinear_features(X, y, feature_names, ehr_data, clinically_relevant, corr_threshold=0.8):\n",
        "    \"\"\"Select non-collinear features while preserving clinically relevant ones\"\"\"\n",
        "    # Standardize data for proper correlation calculation\n",
        "    scaler = StandardScaler()\n",
        "    X_scaled = scaler.fit_transform(X)\n",
        "\n",
        "    # Find all collinear pairs\n",
        "    collinear_df = find_collinear_features(X_scaled, feature_names, corr_threshold)\n",
        "\n",
        "    # Get feature importance scores\n",
        "    importance = mutual_info_classif(X, y, random_state=42)\n",
        "    importance_df = pd.DataFrame({'Feature': feature_names, 'Importance': importance})\n",
        "\n",
        "    features_to_keep = set(clinically_relevant)  # Always keep these\n",
        "\n",
        "    # For non-clinical features, keep the more important one from collinear pairs\n",
        "    for _, row in collinear_df.iterrows():\n",
        "        f1, f2 = row['Feature1'], row['Feature2']\n",
        "\n",
        "        # Skip if either is clinically relevant\n",
        "        if f1 in clinically_relevant or f2 in clinically_relevant:\n",
        "            continue\n",
        "\n",
        "        # Keep feature with higher importance\n",
        "        imp1 = importance_df.loc[importance_df['Feature'] == f1, 'Importance'].values[0]\n",
        "        imp2 = importance_df.loc[importance_df['Feature'] == f2, 'Importance'].values[0]\n",
        "\n",
        "        if imp1 > imp2:\n",
        "            features_to_keep.add(f1)\n",
        "        else:\n",
        "            features_to_keep.add(f2)\n",
        "\n",
        "    # Add any features not involved in collinearity\n",
        "    all_features = set(feature_names)\n",
        "    features_to_keep.update(all_features - set(collinear_df[['Feature1','Feature2']].values.flatten()))\n",
        "\n",
        "    # Get indices of features to keep\n",
        "    keep_indices = [i for i, f in enumerate(feature_names) if f in features_to_keep]\n",
        "    remaining_features = [f for f in feature_names if f in features_to_keep]\n",
        "\n",
        "    return keep_indices, remaining_features\n"
      ],
      "metadata": {
        "id": "Ny3V18EDWAo_"
      },
      "execution_count": 26,
      "outputs": []
    },
    {
      "cell_type": "code",
      "source": [
        "def process_features(X_train, y_train, X_val, X_test, feature_names, ehr_data, clinically_relevant):\n",
        "    \"\"\"Process and filter features for a given dataset\"\"\"\n",
        "    # Calculate standard deviations\n",
        "    std_devs = np.std(X_train, axis=0)\n",
        "\n",
        "    # Create a DataFrame for analysis\n",
        "    std_df = pd.DataFrame({\n",
        "        \"Feature\": feature_names,\n",
        "        \"Std_Dev\": std_devs\n",
        "    })\n",
        "\n",
        "    # Calculate correlations\n",
        "    correlations = []\n",
        "    p_values = []\n",
        "\n",
        "    for i in range(X_train.shape[1]):\n",
        "        feature_name = feature_names[i]\n",
        "\n",
        "        # Skip constant features\n",
        "        if np.std(X_train[:, i]) == 0:\n",
        "            correlations.append(0)\n",
        "            p_values.append(1)\n",
        "            continue\n",
        "\n",
        "        # Use chi-squared for ICD features, point-biserial for others\n",
        "        if feature_name in ehr_data[\"icd_cols\"]:\n",
        "            # Chi-squared test for binary ICD features\n",
        "            contingency_table = pd.crosstab(X_train[:, i], y_train)\n",
        "            try:\n",
        "                chi2, pval, _, _ = chi2_contingency(contingency_table)\n",
        "                correlations.append(chi2)  # Using chi2 statistic as effect size\n",
        "                p_values.append(pval)\n",
        "            except:\n",
        "                correlations.append(0)\n",
        "                p_values.append(1)\n",
        "        else:\n",
        "            # Point-biserial for continuous features\n",
        "            corr, pval = pointbiserialr(X_train[:, i], y_train)\n",
        "            correlations.append(corr)\n",
        "            p_values.append(pval)\n",
        "\n",
        "    # Create results DataFrame\n",
        "    corr_df = pd.DataFrame({\n",
        "        \"Feature\": feature_names,\n",
        "        \"Correlation\": correlations,\n",
        "        \"P-value\": p_values\n",
        "    })\n",
        "\n",
        "    # Sort by absolute correlation strength\n",
        "    corr_df[\"Abs_Correlation\"] = np.abs(corr_df[\"Correlation\"])\n",
        "    corr_df = corr_df.sort_values(\"Abs_Correlation\", ascending=True)\n",
        "\n",
        "    # Analyze zero-value ratio for each feature category\n",
        "    demo_zero_df = analyze_zeros(ehr_data, ehr_data[\"demo_cols\"])\n",
        "    icd_zero_df = analyze_zeros(ehr_data, ehr_data[\"icd_cols\"])\n",
        "    lab_zero_df = analyze_zeros(ehr_data, ehr_data[\"lab_cols\"])\n",
        "    med_zero_df = analyze_zeros(ehr_data, ehr_data[\"med_cols\"])\n",
        "\n",
        "    # Combine all zero-value data\n",
        "    zero_df = pd.concat([demo_zero_df, icd_zero_df, lab_zero_df, med_zero_df])\n",
        "\n",
        "    # Merge zero-value data with std and correlation data\n",
        "    combined_df = pd.merge(pd.merge(std_df, corr_df, on='Feature'), zero_df, on='Feature', how='left')\n",
        "\n",
        "    # Define thresholds\n",
        "    thresholds = {\n",
        "        'zero_ratio': {\n",
        "            'icd': 0.95,    # ICD codes often sparse\n",
        "            'med': 0.95,    # Medications often sparse\n",
        "            'lab': 0.95,    # Labs should rarely be zero\n",
        "            'demo': 0.9     # Demographics rarely zero\n",
        "        },\n",
        "        'std_dev': 0.001,    # Only for continuous features\n",
        "        'correlation': {\n",
        "            'min_abs_corr': 0.001,\n",
        "            'max_pvalue': 0.05\n",
        "        }\n",
        "    }\n",
        "\n",
        "    # Categorize features\n",
        "    feature_types = {\n",
        "        'icd': ehr_data[\"icd_cols\"],\n",
        "        'med': ehr_data[\"med_cols\"],\n",
        "        'lab': ehr_data[\"lab_cols\"],\n",
        "        'demo': ehr_data[\"demo_cols\"]\n",
        "    }\n",
        "\n",
        "    # Initialize storage\n",
        "    features_to_remove = []\n",
        "\n",
        "    # Check each feature type separately\n",
        "    for ftype, cols in feature_types.items():\n",
        "        for feature in cols:\n",
        "            if feature not in combined_df['Feature'].values:\n",
        "                continue\n",
        "\n",
        "            row = combined_df[combined_df['Feature'] == feature].iloc[0]\n",
        "\n",
        "            # Skip binary features for variance check\n",
        "            check_variance = ftype not in ['icd']\n",
        "\n",
        "            if ftype == 'icd':\n",
        "                sig_threshold = 0.05  # Could use different threshold for chi-square\n",
        "                effect_size = row['Correlation']  # Actually contains chi2 statistic\n",
        "            else:\n",
        "                sig_threshold = thresholds['correlation']['max_pvalue']\n",
        "                effect_size = np.abs(row['Correlation'])\n",
        "\n",
        "            if ('Zero_Ratio' in row and row['Zero_Ratio'] > thresholds['zero_ratio'][ftype]) and \\\n",
        "               (not check_variance or row['Std_Dev'] < thresholds['std_dev']) and \\\n",
        "               (effect_size < thresholds['correlation']['min_abs_corr']) and \\\n",
        "               (row['P-value'] > sig_threshold):\n",
        "                if feature not in clinically_relevant:\n",
        "                    features_to_remove.append(feature)\n",
        "\n",
        "    # Get indices of features to remove\n",
        "    all_features = ehr_data[\"feature_cols\"]\n",
        "    remove_indices = [i for i, feature in enumerate(all_features)\n",
        "                     if feature in features_to_remove]\n",
        "\n",
        "    # Function to remove features\n",
        "    def remove_features(X, remove_indices):\n",
        "        return np.delete(X, remove_indices, axis=1)\n",
        "\n",
        "    # Apply feature removal\n",
        "    X_train_filtered = remove_features(X_train, remove_indices)\n",
        "    X_val_filtered = remove_features(X_val, remove_indices)\n",
        "    X_test_filtered = remove_features(X_test, remove_indices)\n",
        "\n",
        "    # Get remaining feature names\n",
        "    remaining_features = [f for i, f in enumerate(all_features)\n",
        "                         if i not in remove_indices]\n",
        "\n",
        "    print(f\"Filtered features from {X_train.shape[1]} to {X_train_filtered.shape[1]}\")\n",
        "\n",
        "    # Apply collinearity-based selection\n",
        "    keep_indices, non_collinear_features = select_non_collinear_features(\n",
        "        X_train_filtered, y_train, remaining_features, ehr_data, clinically_relevant, corr_threshold=0.7\n",
        "    )\n",
        "\n",
        "    # Apply final filtering\n",
        "    X_train_final = X_train_filtered[:, keep_indices]\n",
        "    X_val_final = X_val_filtered[:, keep_indices]\n",
        "    X_test_final = X_test_filtered[:, keep_indices]\n",
        "    final_feature_names = non_collinear_features\n",
        "\n",
        "    print(f\"Final features after collinearity removal: {X_train_final.shape[1]}\")\n",
        "\n",
        "    return X_train_final, X_val_final, X_test_final, final_feature_names\n"
      ],
      "metadata": {
        "id": "dSGh610WWEfa"
      },
      "execution_count": 27,
      "outputs": []
    },
    {
      "cell_type": "code",
      "source": [
        "# Process features for each aggregation method\n",
        "print(\"\\nProcessing features for Last Day aggregation method:\")\n",
        "X_train_last_final, X_val_last_final, X_test_last_final, final_feature_names_last = process_features(\n",
        "    X_train_last, y_train_last, X_val_last, X_test_last,\n",
        "    ehr_data[\"feature_cols\"], ehr_data, clinically_relevant\n",
        ")\n",
        "\n",
        "print(\"\\nProcessing features for Mean aggregation method:\")\n",
        "X_train_mean_final, X_val_mean_final, X_test_mean_final, final_feature_names_mean = process_features(\n",
        "    X_train_mean, y_train_mean, X_val_mean, X_test_mean,\n",
        "    ehr_data[\"feature_cols\"], ehr_data, clinically_relevant\n",
        ")\n",
        "\n",
        "print(\"\\nProcessing features for Max aggregation method:\")\n",
        "X_train_max_final, X_val_max_final, X_test_max_final, final_feature_names_max = process_features(\n",
        "    X_train_max, y_train_max, X_val_max, X_test_max,\n",
        "    ehr_data[\"feature_cols\"], ehr_data, clinically_relevant\n",
        ")\n"
      ],
      "metadata": {
        "colab": {
          "base_uri": "https://localhost:8080/"
        },
        "id": "MOvAV4NYWJfl",
        "outputId": "5e0f6465-1017-41a4-c6fb-4e158890eaa1"
      },
      "execution_count": 28,
      "outputs": [
        {
          "output_type": "stream",
          "name": "stdout",
          "text": [
            "\n",
            "Processing features for Last Day aggregation method:\n"
          ]
        },
        {
          "output_type": "stream",
          "name": "stderr",
          "text": [
            "<ipython-input-27-7ea7f4128bb8>:60: FutureWarning: The behavior of DataFrame concatenation with empty or all-NA entries is deprecated. In a future version, this will no longer exclude empty or all-NA columns when determining the result dtypes. To retain the old behavior, exclude the relevant entries before the concat operation.\n",
            "  zero_df = pd.concat([demo_zero_df, icd_zero_df, lab_zero_df, med_zero_df])\n"
          ]
        },
        {
          "output_type": "stream",
          "name": "stdout",
          "text": [
            "Filtered features from 171 to 127\n",
            "Final features after collinearity removal: 123\n",
            "\n",
            "Processing features for Mean aggregation method:\n"
          ]
        },
        {
          "output_type": "stream",
          "name": "stderr",
          "text": [
            "<ipython-input-27-7ea7f4128bb8>:60: FutureWarning: The behavior of DataFrame concatenation with empty or all-NA entries is deprecated. In a future version, this will no longer exclude empty or all-NA columns when determining the result dtypes. To retain the old behavior, exclude the relevant entries before the concat operation.\n",
            "  zero_df = pd.concat([demo_zero_df, icd_zero_df, lab_zero_df, med_zero_df])\n"
          ]
        },
        {
          "output_type": "stream",
          "name": "stdout",
          "text": [
            "Filtered features from 171 to 133\n",
            "Final features after collinearity removal: 130\n",
            "\n",
            "Processing features for Max aggregation method:\n"
          ]
        },
        {
          "output_type": "stream",
          "name": "stderr",
          "text": [
            "<ipython-input-27-7ea7f4128bb8>:60: FutureWarning: The behavior of DataFrame concatenation with empty or all-NA entries is deprecated. In a future version, this will no longer exclude empty or all-NA columns when determining the result dtypes. To retain the old behavior, exclude the relevant entries before the concat operation.\n",
            "  zero_df = pd.concat([demo_zero_df, icd_zero_df, lab_zero_df, med_zero_df])\n"
          ]
        },
        {
          "output_type": "stream",
          "name": "stdout",
          "text": [
            "Filtered features from 171 to 119\n",
            "Final features after collinearity removal: 119\n"
          ]
        }
      ]
    },
    {
      "cell_type": "code",
      "source": [
        "# Import model training libraries\n",
        "from sklearn.tree import DecisionTreeClassifier\n",
        "from sklearn.ensemble import AdaBoostClassifier\n",
        "from sklearn.metrics import accuracy_score, classification_report, confusion_matrix\n",
        "from sklearn.metrics import roc_curve, roc_auc_score, precision_recall_curve, auc\n",
        "from sklearn.model_selection import KFold\n",
        "\n",
        "def tune_hyperparameters(X_train, y_train, model_name):\n",
        "    \"\"\"Tune hyperparameters for AdaBoost model\"\"\"\n",
        "    # Define hyperparameters to search\n",
        "    learning_rates = [0.1, 0.25, 0.5, 1.0]\n",
        "    max_depths = [1, 2, 3, 4, 5, 6]\n",
        "    results = []\n",
        "    kf = KFold(n_splits=5, shuffle=True, random_state=42)\n",
        "\n",
        "    print(f\"\\nPerforming hyperparameter tuning for {model_name} model:\")\n",
        "\n",
        "    # K-Fold Cross Validation for hyperparameter tuning\n",
        "    for lr in learning_rates:\n",
        "        for depth in max_depths:\n",
        "            adaboost_cv = AdaBoostClassifier(\n",
        "                estimator=DecisionTreeClassifier(max_depth=depth, random_state=42),\n",
        "                n_estimators=260,\n",
        "                learning_rate=lr,\n",
        "                random_state=42\n",
        "            )\n",
        "\n",
        "            fold_valid_accs = []\n",
        "            for fold, (train_idx, val_idx) in enumerate(kf.split(X_train, y_train)):\n",
        "                X_tr, X_val_fold = X_train[train_idx], X_train[val_idx]\n",
        "                y_tr, y_val_fold = y_train[train_idx], y_train[val_idx]\n",
        "\n",
        "                adaboost_cv.fit(X_tr, y_tr)\n",
        "                fold_pred = adaboost_cv.predict(X_val_fold)\n",
        "                fold_acc = accuracy_score(y_val_fold, fold_pred)\n",
        "                fold_valid_accs.append(fold_acc)\n",
        "\n",
        "            mean_valid_acc = np.mean(fold_valid_accs)\n",
        "            results.append({\n",
        "                'learning_rate': lr,\n",
        "                'max_depth': depth,\n",
        "                'valid_accuracy': mean_valid_acc\n",
        "            })\n",
        "\n",
        "    # Find best hyperparameters\n",
        "    results_df = pd.DataFrame(results)\n",
        "    best_result = results_df.loc[results_df['valid_accuracy'].idxmax()]\n",
        "    best_lr = best_result['learning_rate']\n",
        "    best_depth = int(best_result['max_depth'])\n",
        "\n",
        "    print(f\"Best hyperparameters for {model_name} model:\")\n",
        "    print(f\"  Learning Rate: {best_lr}\")\n",
        "    print(f\"  Max Depth: {best_depth}\")\n",
        "    print(f\"  Mean CV Validation Accuracy: {best_result['valid_accuracy']:.4f}\")\n",
        "\n",
        "    return best_lr, best_depth\n"
      ],
      "metadata": {
        "id": "MMXM1iE0WVjE"
      },
      "execution_count": 29,
      "outputs": []
    },
    {
      "cell_type": "code",
      "source": [
        "def train_adaboost_model(X_train, y_train, X_val, y_val, model_name):\n",
        "    \"\"\"Train AdaBoost model and return model and performance metrics\"\"\"\n",
        "    # Hyperparameter search\n",
        "    best_lr, best_depth = tune_hyperparameters(X_train, y_train, model_name)\n",
        "\n",
        "    # Train final model with best hyperparameters\n",
        "    final_model = AdaBoostClassifier(\n",
        "        estimator=DecisionTreeClassifier(max_depth=best_depth, random_state=42),\n",
        "        n_estimators=260,\n",
        "        learning_rate=best_lr,\n",
        "        random_state=42\n",
        "    )\n",
        "\n",
        "    final_model.fit(X_train, y_train)\n",
        "\n",
        "    # Evaluate on validation set\n",
        "    y_val_pred = final_model.predict(X_val)\n",
        "    y_val_prob = final_model.predict_proba(X_val)[:, 1]\n",
        "\n",
        "    # Calculate performance metrics\n",
        "    val_accuracy = accuracy_score(y_val, y_val_pred)\n",
        "    fpr, tpr, _ = roc_curve(y_val, y_val_prob)\n",
        "    auc_score = roc_auc_score(y_val, y_val_prob)\n",
        "\n",
        "    # Precision-Recall curve\n",
        "    precision, recall, _ = precision_recall_curve(y_val, y_val_prob)\n",
        "    pr_auc = auc(recall, precision)\n",
        "\n",
        "    print(f\"\\n{model_name} Model Performance:\")\n",
        "    print(f\"  Validation Accuracy: {val_accuracy:.4f}\")\n",
        "    print(f\"  Validation AUC: {auc_score:.4f}\")\n",
        "    print(f\"  Validation PR-AUC: {pr_auc:.4f}\")\n",
        "\n",
        "    # Show confusion matrix\n",
        "    cm = confusion_matrix(y_val, y_val_pred)\n",
        "    print(f\"  Confusion Matrix:\\n{cm}\")\n",
        "\n",
        "    return final_model, fpr, tpr, auc_score, val_accuracy, y_val_prob\n"
      ],
      "metadata": {
        "id": "idRFHbHAWlAy"
      },
      "execution_count": 30,
      "outputs": []
    },
    {
      "cell_type": "code",
      "source": [
        "# Train models for each aggregation method\n",
        "print(\"\\n\" + \"=\"*50)\n",
        "print(\"Training Last Day aggregation model\")\n",
        "print(\"=\"*50)\n",
        "last_model, last_fpr, last_tpr, last_auc, last_acc, last_probs = train_adaboost_model(\n",
        "    X_train_last_final, y_train_last, X_val_last_final, y_val_last, \"Last Day\"\n",
        ")\n",
        "\n",
        "print(\"\\n\" + \"=\"*50)\n",
        "print(\"Training Mean aggregation model\")\n",
        "print(\"=\"*50)\n",
        "mean_model, mean_fpr, mean_tpr, mean_auc, mean_acc, mean_probs = train_adaboost_model(\n",
        "    X_train_mean_final, y_train_mean, X_val_mean_final, y_val_mean, \"Mean\"\n",
        ")\n",
        "\n",
        "print(\"\\n\" + \"=\"*50)\n",
        "print(\"Training Max aggregation model\")\n",
        "print(\"=\"*50)\n",
        "max_model, max_fpr, max_tpr, max_auc, max_acc, max_probs = train_adaboost_model(\n",
        "    X_train_max_final, y_train_max, X_val_max_final, y_val_max, \"Max\"\n",
        ")\n"
      ],
      "metadata": {
        "colab": {
          "base_uri": "https://localhost:8080/"
        },
        "id": "VYH6AMz6Wnr2",
        "outputId": "aeb22015-faa3-4fc4-a1e3-4bc93dad5812"
      },
      "execution_count": 31,
      "outputs": [
        {
          "output_type": "stream",
          "name": "stdout",
          "text": [
            "\n",
            "==================================================\n",
            "Training Last Day aggregation model\n",
            "==================================================\n",
            "\n",
            "Performing hyperparameter tuning for Last Day model:\n",
            "Best hyperparameters for Last Day model:\n",
            "  Learning Rate: 0.25\n",
            "  Max Depth: 6\n",
            "  Mean CV Validation Accuracy: 0.8566\n",
            "\n",
            "Last Day Model Performance:\n",
            "  Validation Accuracy: 0.8562\n",
            "  Validation AUC: 0.7524\n",
            "  Validation PR-AUC: 0.5211\n",
            "  Confusion Matrix:\n",
            "[[2257   50]\n",
            " [ 351  130]]\n",
            "\n",
            "==================================================\n",
            "Training Mean aggregation model\n",
            "==================================================\n",
            "\n",
            "Performing hyperparameter tuning for Mean model:\n",
            "Best hyperparameters for Mean model:\n",
            "  Learning Rate: 0.1\n",
            "  Max Depth: 3\n",
            "  Mean CV Validation Accuracy: 0.8566\n",
            "\n",
            "Mean Model Performance:\n",
            "  Validation Accuracy: 0.8476\n",
            "  Validation AUC: 0.7555\n",
            "  Validation PR-AUC: 0.5013\n",
            "  Confusion Matrix:\n",
            "[[2285   22]\n",
            " [ 403   78]]\n",
            "\n",
            "==================================================\n",
            "Training Max aggregation model\n",
            "==================================================\n",
            "\n",
            "Performing hyperparameter tuning for Max model:\n",
            "Best hyperparameters for Max model:\n",
            "  Learning Rate: 0.1\n",
            "  Max Depth: 5\n",
            "  Mean CV Validation Accuracy: 0.8318\n",
            "\n",
            "Max Model Performance:\n",
            "  Validation Accuracy: 0.8350\n",
            "  Validation AUC: 0.7123\n",
            "  Validation PR-AUC: 0.3925\n",
            "  Confusion Matrix:\n",
            "[[2293   14]\n",
            " [ 446   35]]\n"
          ]
        }
      ]
    },
    {
      "cell_type": "code",
      "source": [
        "# Plot ROC curves for all three models in one figure\n",
        "plt.figure(figsize=(10, 8))\n",
        "plt.plot(last_fpr, last_tpr, 'b-', linewidth=2, label=f'Last Day (AUC = {last_auc:.4f})')\n",
        "plt.plot(mean_fpr, mean_tpr, 'r-', linewidth=2, label=f'Mean (AUC = {mean_auc:.4f})')\n",
        "plt.plot(max_fpr, max_tpr, 'g-', linewidth=2, label=f'Max (AUC = {max_auc:.4f})')\n",
        "plt.plot([0, 1], [0, 1], 'k--', label='Chance Level')\n",
        "\n",
        "# Add plot details\n",
        "plt.xlabel('False Positive Rate', fontsize=14)\n",
        "plt.ylabel('True Positive Rate', fontsize=14)\n",
        "plt.title('ROC Curves Comparison: Different Aggregation Methods', fontsize=16)\n",
        "plt.legend(loc='lower right', fontsize=12)\n",
        "plt.grid(True, alpha=0.3)\n",
        "plt.tight_layout()\n",
        "\n",
        "# Save figure\n",
        "plt.savefig(os.path.join(DATA_DIR, 'roc_curves_comparison.png'), dpi=300, bbox_inches='tight')\n",
        "plt.show()\n"
      ],
      "metadata": {
        "colab": {
          "base_uri": "https://localhost:8080/",
          "height": 801
        },
        "id": "YE6kbrlylLgb",
        "outputId": "8f8acbb8-536b-419f-bc21-4847ec725889"
      },
      "execution_count": 32,
      "outputs": [
        {
          "output_type": "display_data",
          "data": {
            "text/plain": [
              "<Figure size 1000x800 with 1 Axes>"
            ],
            "image/png": "[encoded data removed]"
          },
          "metadata": {}
        }
      ]
    },
    {
      "cell_type": "code",
      "source": [
        "# Determine best model based on AUC\n",
        "methods = [\"Last Day\", \"Mean\", \"Max\"]\n",
        "aucs = [last_auc, mean_auc, max_auc]\n",
        "best_idx = np.argmax(aucs)\n",
        "best_method = methods[best_idx]\n",
        "best_auc = aucs[best_idx]\n",
        "\n",
        "print(f\"\\nBest model based on validation AUC: {best_method} (AUC = {best_auc:.4f})\")\n",
        "\n",
        "# Select the best model and corresponding test data\n",
        "if best_method == \"Last Day\":\n",
        "    best_model = last_model\n",
        "    X_test_final = X_test_last_final\n",
        "elif best_method == \"Mean\":\n",
        "    best_model = mean_model\n",
        "    X_test_final = X_test_mean_final\n",
        "else:  # Max\n",
        "    best_model = max_model\n",
        "    X_test_final = X_test_max_final\n"
      ],
      "metadata": {
        "colab": {
          "base_uri": "https://localhost:8080/"
        },
        "id": "zx7Dwq6jW4-5",
        "outputId": "c4eaa3b2-c9ef-48d8-8b00-29a6f4d45eee"
      },
      "execution_count": 33,
      "outputs": [
        {
          "output_type": "stream",
          "name": "stdout",
          "text": [
            "\n",
            "Best model based on validation AUC: Mean (AUC = 0.7555)\n"
          ]
        }
      ]
    },
    {
      "cell_type": "code",
      "source": [
        "# Generate test predictions\n",
        "y_test_pred = best_model.predict(X_test_final)\n",
        "y_test_prob = best_model.predict_proba(X_test_final)[:, 1]\n",
        "\n",
        "# Create submission file\n",
        "test_ids_unique_df = test_df.drop_duplicates(subset='id', keep='first')\n",
        "test_ids_unique = test_ids_unique_df['id']\n",
        "\n",
        "if len(y_test_pred) == len(test_ids_unique):\n",
        "    submission_df = pd.DataFrame({\n",
        "        'id': test_ids_unique.values,\n",
        "        'readmitted_within_30days': y_test_pred\n",
        "    })\n",
        "\n",
        "    # Save submission file\n",
        "    submission_file_path = os.path.join(DATA_DIR, f'class_predictions_adaboost_{best_method.replace(\" \", \"_\").lower()}.csv')\n",
        "    submission_df.to_csv(submission_file_path, index=False)\n",
        "    print(f\"\\nTest predictions saved successfully to: {submission_file_path}\")\n",
        "    print(f\"Submission file head:\")\n",
        "    print(submission_df.head())\n",
        "else:\n",
        "    print(f\"\\nError: ID count mismatch between predictions ({len(y_test_pred)}) and test IDs ({len(test_ids_unique)})\")\n"
      ],
      "metadata": {
        "colab": {
          "base_uri": "https://localhost:8080/"
        },
        "id": "TYvADh9mlcss",
        "outputId": "07674972-104f-4e38-f3a8-394309943354"
      },
      "execution_count": 36,
      "outputs": [
        {
          "output_type": "stream",
          "name": "stdout",
          "text": [
            "\n",
            "Test predictions saved successfully to: /content/class_predictions_adaboost_mean.csv\n",
            "Submission file head:\n",
            "                  id  readmitted_within_30days\n",
            "0  16026764_21404901                     False\n",
            "1  18463717_24608289                      True\n",
            "2  16914073_28403863                     False\n",
            "3  17119335_28722930                     False\n",
            "4  10599715_20082646                     False\n"
          ]
        }
      ]
    },
    {
      "cell_type": "code",
      "source": [
        "# Optional: Create ensemble model by averaging predictions\n",
        "if len(set([X_val_last_final.shape[0], X_val_mean_final.shape[0], X_val_max_final.shape[0]])) == 1:\n",
        "    print(\"\\nCreating ensemble model by averaging the predictions of all three models...\")\n",
        "\n",
        "    # Average validation probabilities\n",
        "    ensemble_val_probs = (last_probs + mean_probs + max_probs) / 3\n",
        "    ensemble_val_preds = (ensemble_val_probs >= 0.5).astype(int)\n",
        "\n",
        "    # Evaluate ensemble on validation set\n",
        "    ensemble_acc = accuracy_score(y_val_last, ensemble_val_preds)  # All y_val sets are the same\n",
        "    ensemble_auc = roc_auc_score(y_val_last, ensemble_val_probs)\n",
        "\n",
        "    print(f\"Ensemble Model - Validation Accuracy: {ensemble_acc:.4f}, AUC: {ensemble_auc:.4f}\")\n",
        "\n",
        "    # If ensemble is better than any individual model, use it for test predictions\n",
        "    if ensemble_auc > best_auc:\n",
        "        print(\"Ensemble model performs better than any individual model!\")\n",
        "\n",
        "        # Generate ensemble predictions for test set - FIXED VERSION\n",
        "        # Use each model with its corresponding feature set\n",
        "        ensemble_test_probs = (\n",
        "            last_model.predict_proba(X_test_last_final)[:, 1] +\n",
        "            mean_model.predict_proba(X_test_mean_final)[:, 1] +\n",
        "            max_model.predict_proba(X_test_max_final)[:, 1]\n",
        "        ) / 3\n",
        "        ensemble_test_preds = (ensemble_test_probs >= 0.5).astype(int)\n",
        "\n",
        "        # Create submission file for ensemble\n",
        "        if len(ensemble_test_preds) == len(test_ids_unique):\n",
        "            ensemble_submission_df = pd.DataFrame({\n",
        "                'id': test_ids_unique.values,\n",
        "                'readmitted_within_30days': ensemble_test_preds\n",
        "            })\n",
        "\n",
        "            ensemble_file_path = os.path.join(DATA_DIR, 'class_predictions_adaboost_ensemble.csv')\n",
        "            ensemble_submission_df.to_csv(ensemble_file_path, index=False)\n",
        "            print(f\"Ensemble test predictions saved to: {ensemble_file_path}\")\n"
      ],
      "metadata": {
        "colab": {
          "base_uri": "https://localhost:8080/"
        },
        "id": "8OaSeuRqlzFj",
        "outputId": "12249907-c155-4944-934c-bd4360b7936d"
      },
      "execution_count": 38,
      "outputs": [
        {
          "output_type": "stream",
          "name": "stdout",
          "text": [
            "\n",
            "Creating ensemble model by averaging the predictions of all three models...\n",
            "Ensemble Model - Validation Accuracy: 0.8547, AUC: 0.7754\n",
            "Ensemble model performs better than any individual model!\n",
            "Ensemble test predictions saved to: /content/class_predictions_adaboost_ensemble.csv\n"
          ]
        }
      ]
    },
    {
      "cell_type": "code",
      "source": [
        "print(\"\\n\" + \"=\"*50)\n",
        "print(\"Summary of Results\")\n",
        "print(\"=\"*50)\n",
        "print(f\"Last Day Model - AUC: {last_auc:.4f}, Accuracy: {last_acc:.4f}\")\n",
        "print(f\"Mean Model - AUC: {mean_auc:.4f}, Accuracy: {mean_acc:.4f}\")\n",
        "print(f\"Max Model - AUC: {max_auc:.4f}, Accuracy: {max_acc:.4f}\")\n",
        "print(f\"Best Model: {best_method}\")\n",
        "print(\"=\"*50)\n",
        "print(\"Training and evaluation completed!\")\n"
      ],
      "metadata": {
        "id": "TZOr15fymInd",
        "outputId": "e0cb359e-da92-4fbe-80c0-b3ecf531685a",
        "colab": {
          "base_uri": "https://localhost:8080/"
        }
      },
      "execution_count": 39,
      "outputs": [
        {
          "output_type": "stream",
          "name": "stdout",
          "text": [
            "\n",
            "==================================================\n",
            "Summary of Results\n",
            "==================================================\n",
            "Last Day Model - AUC: 0.7524, Accuracy: 0.8562\n",
            "Mean Model - AUC: 0.7555, Accuracy: 0.8476\n",
            "Max Model - AUC: 0.7123, Accuracy: 0.8350\n",
            "Best Model: Mean\n",
            "==================================================\n",
            "Training and evaluation completed!\n"
          ]
        }
      ]
    }
  ]
}